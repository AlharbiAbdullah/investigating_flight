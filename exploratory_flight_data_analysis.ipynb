{
 "cells": [
  {
   "cell_type": "markdown",
   "metadata": {},
   "source": [
    "# Exploratory Flight data analysis \n",
    "\n",
    "\n",
    "## Introduction & About the dataset:\n",
    "\n",
    "I Downloded the dataset from the Statistical Computing\n",
    "Statistical Graphics website. I gathered all of the data for the year of 2018. The website wouldn't allow me to downlod it once, so I downloded each month separatlly. Then I will concat all the data in one master dataframe. The dataset has around 7M observations.\n",
    "\n",
    "In this project I will preform some data wrangling and data analysis alongside with some insights about the dataset."
   ]
  },
  {
   "cell_type": "markdown",
   "metadata": {},
   "source": [
    "## Data Wrangling \n",
    "\n",
    "### Gathering"
   ]
  },
  {
   "cell_type": "code",
   "execution_count": 91,
   "metadata": {},
   "outputs": [],
   "source": [
    "import pandas as pd \n",
    "import numpy as np \n",
    "import matplotlib.pyplot as plt\n",
    "import seaborn as sb\n",
    "%matplotlib inline\n",
    "\n",
    "\n",
    "# letting the matplotlib plot all the data points.\n",
    "plt.rcParams['agg.path.chunksize'] = 10000\n",
    "\n",
    "# make pandas show all the columns. \n",
    "pd.set_option('display.max_columns', None)\n"
   ]
  },
  {
   "cell_type": "code",
   "execution_count": 92,
   "metadata": {},
   "outputs": [
    {
     "name": "stderr",
     "output_type": "stream",
     "text": [
      "C:\\Users\\dell\\anaconda3\\lib\\site-packages\\IPython\\core\\interactiveshell.py:3071: DtypeWarning: Columns (29) have mixed types.Specify dtype option on import or set low_memory=False.\n",
      "  has_raised = await self.run_ast_nodes(code_ast.body, cell_name,\n"
     ]
    },
    {
     "data": {
      "text/html": [
       "<div>\n",
       "<style scoped>\n",
       "    .dataframe tbody tr th:only-of-type {\n",
       "        vertical-align: middle;\n",
       "    }\n",
       "\n",
       "    .dataframe tbody tr th {\n",
       "        vertical-align: top;\n",
       "    }\n",
       "\n",
       "    .dataframe thead th {\n",
       "        text-align: right;\n",
       "    }\n",
       "</style>\n",
       "<table border=\"1\" class=\"dataframe\">\n",
       "  <thead>\n",
       "    <tr style=\"text-align: right;\">\n",
       "      <th></th>\n",
       "      <th>YEAR</th>\n",
       "      <th>MONTH</th>\n",
       "      <th>DAY_OF_MONTH</th>\n",
       "      <th>DAY_OF_WEEK</th>\n",
       "      <th>FL_DATE</th>\n",
       "      <th>OP_UNIQUE_CARRIER</th>\n",
       "      <th>OP_CARRIER_FL_NUM</th>\n",
       "      <th>ORIGIN_AIRPORT_ID</th>\n",
       "      <th>ORIGIN_AIRPORT_SEQ_ID</th>\n",
       "      <th>ORIGIN_CITY_MARKET_ID</th>\n",
       "      <th>ORIGIN</th>\n",
       "      <th>ORIGIN_CITY_NAME</th>\n",
       "      <th>ORIGIN_STATE_NM</th>\n",
       "      <th>DEST_AIRPORT_ID</th>\n",
       "      <th>DEST_AIRPORT_SEQ_ID</th>\n",
       "      <th>DEST_CITY_MARKET_ID</th>\n",
       "      <th>DEST</th>\n",
       "      <th>DEST_CITY_NAME</th>\n",
       "      <th>DEST_STATE_NM</th>\n",
       "      <th>CRS_DEP_TIME</th>\n",
       "      <th>DEP_TIME</th>\n",
       "      <th>DEP_DELAY</th>\n",
       "      <th>DEP_DELAY_NEW</th>\n",
       "      <th>DEP_DEL15</th>\n",
       "      <th>ARR_TIME</th>\n",
       "      <th>ARR_DELAY</th>\n",
       "      <th>ARR_DELAY_NEW</th>\n",
       "      <th>ARR_DEL15</th>\n",
       "      <th>CANCELLED</th>\n",
       "      <th>CANCELLATION_CODE</th>\n",
       "      <th>DIVERTED</th>\n",
       "      <th>AIR_TIME</th>\n",
       "      <th>FLIGHTS</th>\n",
       "      <th>DISTANCE</th>\n",
       "      <th>CARRIER_DELAY</th>\n",
       "      <th>WEATHER_DELAY</th>\n",
       "      <th>NAS_DELAY</th>\n",
       "      <th>SECURITY_DELAY</th>\n",
       "      <th>LATE_AIRCRAFT_DELAY</th>\n",
       "      <th>Unnamed: 39</th>\n",
       "    </tr>\n",
       "  </thead>\n",
       "  <tbody>\n",
       "    <tr>\n",
       "      <th>0</th>\n",
       "      <td>2018</td>\n",
       "      <td>1</td>\n",
       "      <td>14</td>\n",
       "      <td>7</td>\n",
       "      <td>2018-01-14</td>\n",
       "      <td>9E</td>\n",
       "      <td>3468</td>\n",
       "      <td>15096</td>\n",
       "      <td>1509602</td>\n",
       "      <td>35096</td>\n",
       "      <td>SYR</td>\n",
       "      <td>Syracuse, NY</td>\n",
       "      <td>New York</td>\n",
       "      <td>11433</td>\n",
       "      <td>1143302</td>\n",
       "      <td>31295</td>\n",
       "      <td>DTW</td>\n",
       "      <td>Detroit, MI</td>\n",
       "      <td>Michigan</td>\n",
       "      <td>535</td>\n",
       "      <td>NaN</td>\n",
       "      <td>NaN</td>\n",
       "      <td>NaN</td>\n",
       "      <td>NaN</td>\n",
       "      <td>NaN</td>\n",
       "      <td>NaN</td>\n",
       "      <td>NaN</td>\n",
       "      <td>NaN</td>\n",
       "      <td>1.0</td>\n",
       "      <td>B</td>\n",
       "      <td>0.0</td>\n",
       "      <td>NaN</td>\n",
       "      <td>1.0</td>\n",
       "      <td>374.0</td>\n",
       "      <td>NaN</td>\n",
       "      <td>NaN</td>\n",
       "      <td>NaN</td>\n",
       "      <td>NaN</td>\n",
       "      <td>NaN</td>\n",
       "      <td>NaN</td>\n",
       "    </tr>\n",
       "    <tr>\n",
       "      <th>1</th>\n",
       "      <td>2018</td>\n",
       "      <td>1</td>\n",
       "      <td>3</td>\n",
       "      <td>3</td>\n",
       "      <td>2018-01-03</td>\n",
       "      <td>9E</td>\n",
       "      <td>3468</td>\n",
       "      <td>15096</td>\n",
       "      <td>1509602</td>\n",
       "      <td>35096</td>\n",
       "      <td>SYR</td>\n",
       "      <td>Syracuse, NY</td>\n",
       "      <td>New York</td>\n",
       "      <td>12953</td>\n",
       "      <td>1295304</td>\n",
       "      <td>31703</td>\n",
       "      <td>LGA</td>\n",
       "      <td>New York, NY</td>\n",
       "      <td>New York</td>\n",
       "      <td>1358</td>\n",
       "      <td>1348.0</td>\n",
       "      <td>-10.0</td>\n",
       "      <td>0.0</td>\n",
       "      <td>0.0</td>\n",
       "      <td>1506.0</td>\n",
       "      <td>-13.0</td>\n",
       "      <td>0.0</td>\n",
       "      <td>0.0</td>\n",
       "      <td>0.0</td>\n",
       "      <td>NaN</td>\n",
       "      <td>0.0</td>\n",
       "      <td>42.0</td>\n",
       "      <td>1.0</td>\n",
       "      <td>198.0</td>\n",
       "      <td>NaN</td>\n",
       "      <td>NaN</td>\n",
       "      <td>NaN</td>\n",
       "      <td>NaN</td>\n",
       "      <td>NaN</td>\n",
       "      <td>NaN</td>\n",
       "    </tr>\n",
       "    <tr>\n",
       "      <th>2</th>\n",
       "      <td>2018</td>\n",
       "      <td>1</td>\n",
       "      <td>6</td>\n",
       "      <td>6</td>\n",
       "      <td>2018-01-06</td>\n",
       "      <td>9E</td>\n",
       "      <td>3468</td>\n",
       "      <td>15096</td>\n",
       "      <td>1509602</td>\n",
       "      <td>35096</td>\n",
       "      <td>SYR</td>\n",
       "      <td>Syracuse, NY</td>\n",
       "      <td>New York</td>\n",
       "      <td>12953</td>\n",
       "      <td>1295304</td>\n",
       "      <td>31703</td>\n",
       "      <td>LGA</td>\n",
       "      <td>New York, NY</td>\n",
       "      <td>New York</td>\n",
       "      <td>1358</td>\n",
       "      <td>1410.0</td>\n",
       "      <td>12.0</td>\n",
       "      <td>12.0</td>\n",
       "      <td>0.0</td>\n",
       "      <td>1543.0</td>\n",
       "      <td>24.0</td>\n",
       "      <td>24.0</td>\n",
       "      <td>1.0</td>\n",
       "      <td>0.0</td>\n",
       "      <td>NaN</td>\n",
       "      <td>0.0</td>\n",
       "      <td>45.0</td>\n",
       "      <td>1.0</td>\n",
       "      <td>198.0</td>\n",
       "      <td>12.0</td>\n",
       "      <td>0.0</td>\n",
       "      <td>12.0</td>\n",
       "      <td>0.0</td>\n",
       "      <td>0.0</td>\n",
       "      <td>NaN</td>\n",
       "    </tr>\n",
       "    <tr>\n",
       "      <th>3</th>\n",
       "      <td>2018</td>\n",
       "      <td>1</td>\n",
       "      <td>7</td>\n",
       "      <td>7</td>\n",
       "      <td>2018-01-07</td>\n",
       "      <td>9E</td>\n",
       "      <td>3468</td>\n",
       "      <td>15096</td>\n",
       "      <td>1509602</td>\n",
       "      <td>35096</td>\n",
       "      <td>SYR</td>\n",
       "      <td>Syracuse, NY</td>\n",
       "      <td>New York</td>\n",
       "      <td>12953</td>\n",
       "      <td>1295304</td>\n",
       "      <td>31703</td>\n",
       "      <td>LGA</td>\n",
       "      <td>New York, NY</td>\n",
       "      <td>New York</td>\n",
       "      <td>1358</td>\n",
       "      <td>1347.0</td>\n",
       "      <td>-11.0</td>\n",
       "      <td>0.0</td>\n",
       "      <td>0.0</td>\n",
       "      <td>1455.0</td>\n",
       "      <td>-24.0</td>\n",
       "      <td>0.0</td>\n",
       "      <td>0.0</td>\n",
       "      <td>0.0</td>\n",
       "      <td>NaN</td>\n",
       "      <td>0.0</td>\n",
       "      <td>38.0</td>\n",
       "      <td>1.0</td>\n",
       "      <td>198.0</td>\n",
       "      <td>NaN</td>\n",
       "      <td>NaN</td>\n",
       "      <td>NaN</td>\n",
       "      <td>NaN</td>\n",
       "      <td>NaN</td>\n",
       "      <td>NaN</td>\n",
       "    </tr>\n",
       "    <tr>\n",
       "      <th>4</th>\n",
       "      <td>2018</td>\n",
       "      <td>1</td>\n",
       "      <td>8</td>\n",
       "      <td>1</td>\n",
       "      <td>2018-01-08</td>\n",
       "      <td>9E</td>\n",
       "      <td>3468</td>\n",
       "      <td>15096</td>\n",
       "      <td>1509602</td>\n",
       "      <td>35096</td>\n",
       "      <td>SYR</td>\n",
       "      <td>Syracuse, NY</td>\n",
       "      <td>New York</td>\n",
       "      <td>12953</td>\n",
       "      <td>1295304</td>\n",
       "      <td>31703</td>\n",
       "      <td>LGA</td>\n",
       "      <td>New York, NY</td>\n",
       "      <td>New York</td>\n",
       "      <td>1358</td>\n",
       "      <td>1350.0</td>\n",
       "      <td>-8.0</td>\n",
       "      <td>0.0</td>\n",
       "      <td>0.0</td>\n",
       "      <td>1509.0</td>\n",
       "      <td>-10.0</td>\n",
       "      <td>0.0</td>\n",
       "      <td>0.0</td>\n",
       "      <td>0.0</td>\n",
       "      <td>NaN</td>\n",
       "      <td>0.0</td>\n",
       "      <td>39.0</td>\n",
       "      <td>1.0</td>\n",
       "      <td>198.0</td>\n",
       "      <td>NaN</td>\n",
       "      <td>NaN</td>\n",
       "      <td>NaN</td>\n",
       "      <td>NaN</td>\n",
       "      <td>NaN</td>\n",
       "      <td>NaN</td>\n",
       "    </tr>\n",
       "  </tbody>\n",
       "</table>\n",
       "</div>"
      ],
      "text/plain": [
       "   YEAR  MONTH  DAY_OF_MONTH  DAY_OF_WEEK     FL_DATE OP_UNIQUE_CARRIER  \\\n",
       "0  2018      1            14            7  2018-01-14                9E   \n",
       "1  2018      1             3            3  2018-01-03                9E   \n",
       "2  2018      1             6            6  2018-01-06                9E   \n",
       "3  2018      1             7            7  2018-01-07                9E   \n",
       "4  2018      1             8            1  2018-01-08                9E   \n",
       "\n",
       "   OP_CARRIER_FL_NUM  ORIGIN_AIRPORT_ID  ORIGIN_AIRPORT_SEQ_ID  \\\n",
       "0               3468              15096                1509602   \n",
       "1               3468              15096                1509602   \n",
       "2               3468              15096                1509602   \n",
       "3               3468              15096                1509602   \n",
       "4               3468              15096                1509602   \n",
       "\n",
       "   ORIGIN_CITY_MARKET_ID ORIGIN ORIGIN_CITY_NAME ORIGIN_STATE_NM  \\\n",
       "0                  35096    SYR     Syracuse, NY        New York   \n",
       "1                  35096    SYR     Syracuse, NY        New York   \n",
       "2                  35096    SYR     Syracuse, NY        New York   \n",
       "3                  35096    SYR     Syracuse, NY        New York   \n",
       "4                  35096    SYR     Syracuse, NY        New York   \n",
       "\n",
       "   DEST_AIRPORT_ID  DEST_AIRPORT_SEQ_ID  DEST_CITY_MARKET_ID DEST  \\\n",
       "0            11433              1143302                31295  DTW   \n",
       "1            12953              1295304                31703  LGA   \n",
       "2            12953              1295304                31703  LGA   \n",
       "3            12953              1295304                31703  LGA   \n",
       "4            12953              1295304                31703  LGA   \n",
       "\n",
       "  DEST_CITY_NAME DEST_STATE_NM  CRS_DEP_TIME  DEP_TIME  DEP_DELAY  \\\n",
       "0    Detroit, MI      Michigan           535       NaN        NaN   \n",
       "1   New York, NY      New York          1358    1348.0      -10.0   \n",
       "2   New York, NY      New York          1358    1410.0       12.0   \n",
       "3   New York, NY      New York          1358    1347.0      -11.0   \n",
       "4   New York, NY      New York          1358    1350.0       -8.0   \n",
       "\n",
       "   DEP_DELAY_NEW  DEP_DEL15  ARR_TIME  ARR_DELAY  ARR_DELAY_NEW  ARR_DEL15  \\\n",
       "0            NaN        NaN       NaN        NaN            NaN        NaN   \n",
       "1            0.0        0.0    1506.0      -13.0            0.0        0.0   \n",
       "2           12.0        0.0    1543.0       24.0           24.0        1.0   \n",
       "3            0.0        0.0    1455.0      -24.0            0.0        0.0   \n",
       "4            0.0        0.0    1509.0      -10.0            0.0        0.0   \n",
       "\n",
       "   CANCELLED CANCELLATION_CODE  DIVERTED  AIR_TIME  FLIGHTS  DISTANCE  \\\n",
       "0        1.0                 B       0.0       NaN      1.0     374.0   \n",
       "1        0.0               NaN       0.0      42.0      1.0     198.0   \n",
       "2        0.0               NaN       0.0      45.0      1.0     198.0   \n",
       "3        0.0               NaN       0.0      38.0      1.0     198.0   \n",
       "4        0.0               NaN       0.0      39.0      1.0     198.0   \n",
       "\n",
       "   CARRIER_DELAY  WEATHER_DELAY  NAS_DELAY  SECURITY_DELAY  \\\n",
       "0            NaN            NaN        NaN             NaN   \n",
       "1            NaN            NaN        NaN             NaN   \n",
       "2           12.0            0.0       12.0             0.0   \n",
       "3            NaN            NaN        NaN             NaN   \n",
       "4            NaN            NaN        NaN             NaN   \n",
       "\n",
       "   LATE_AIRCRAFT_DELAY  Unnamed: 39  \n",
       "0                  NaN          NaN  \n",
       "1                  NaN          NaN  \n",
       "2                  0.0          NaN  \n",
       "3                  NaN          NaN  \n",
       "4                  NaN          NaN  "
      ]
     },
     "execution_count": 92,
     "metadata": {},
     "output_type": "execute_result"
    }
   ],
   "source": [
    "# reading all the files for each month of the year 2018. \n",
    "\n",
    "df_m1 = pd.read_csv('flight_m1.csv')\n",
    "df_m2 = pd.read_csv('flight_m2.csv')\n",
    "df_m3 = pd.read_csv('flight_m3.csv')\n",
    "df_m4 = pd.read_csv('flight_m4.csv')\n",
    "df_m5 = pd.read_csv('flight_m5.csv')\n",
    "df_m6 = pd.read_csv('flight_m6.csv')\n",
    "df_m7 = pd.read_csv('flight_m7.csv')\n",
    "df_m8 = pd.read_csv('flight_m8.csv')\n",
    "df_m9 = pd.read_csv('flight_m9.csv')\n",
    "df_m10 = pd.read_csv('flight_m10.csv')\n",
    "df_m11 = pd.read_csv('flight_m11.csv')\n",
    "df_m12 = pd.read_csv('flight_m12.csv')\n",
    "\n",
    "\n",
    "\n",
    "df_m1.head()"
   ]
  },
  {
   "cell_type": "markdown",
   "metadata": {},
   "source": [
    "### Assessing"
   ]
  },
  {
   "cell_type": "code",
   "execution_count": 93,
   "metadata": {},
   "outputs": [
    {
     "data": {
      "text/html": [
       "<div>\n",
       "<style scoped>\n",
       "    .dataframe tbody tr th:only-of-type {\n",
       "        vertical-align: middle;\n",
       "    }\n",
       "\n",
       "    .dataframe tbody tr th {\n",
       "        vertical-align: top;\n",
       "    }\n",
       "\n",
       "    .dataframe thead th {\n",
       "        text-align: right;\n",
       "    }\n",
       "</style>\n",
       "<table border=\"1\" class=\"dataframe\">\n",
       "  <thead>\n",
       "    <tr style=\"text-align: right;\">\n",
       "      <th></th>\n",
       "      <th>YEAR</th>\n",
       "      <th>MONTH</th>\n",
       "      <th>DAY_OF_MONTH</th>\n",
       "      <th>DAY_OF_WEEK</th>\n",
       "      <th>FL_DATE</th>\n",
       "      <th>OP_UNIQUE_CARRIER</th>\n",
       "      <th>OP_CARRIER_FL_NUM</th>\n",
       "      <th>ORIGIN_AIRPORT_ID</th>\n",
       "      <th>ORIGIN_AIRPORT_SEQ_ID</th>\n",
       "      <th>ORIGIN_CITY_MARKET_ID</th>\n",
       "      <th>ORIGIN</th>\n",
       "      <th>ORIGIN_CITY_NAME</th>\n",
       "      <th>ORIGIN_STATE_NM</th>\n",
       "      <th>DEST_AIRPORT_ID</th>\n",
       "      <th>DEST_AIRPORT_SEQ_ID</th>\n",
       "      <th>DEST_CITY_MARKET_ID</th>\n",
       "      <th>DEST</th>\n",
       "      <th>DEST_CITY_NAME</th>\n",
       "      <th>DEST_STATE_NM</th>\n",
       "      <th>CRS_DEP_TIME</th>\n",
       "      <th>DEP_TIME</th>\n",
       "      <th>DEP_DELAY</th>\n",
       "      <th>DEP_DELAY_NEW</th>\n",
       "      <th>DEP_DEL15</th>\n",
       "      <th>ARR_TIME</th>\n",
       "      <th>ARR_DELAY</th>\n",
       "      <th>ARR_DELAY_NEW</th>\n",
       "      <th>ARR_DEL15</th>\n",
       "      <th>CANCELLED</th>\n",
       "      <th>CANCELLATION_CODE</th>\n",
       "      <th>DIVERTED</th>\n",
       "      <th>AIR_TIME</th>\n",
       "      <th>FLIGHTS</th>\n",
       "      <th>DISTANCE</th>\n",
       "      <th>CARRIER_DELAY</th>\n",
       "      <th>WEATHER_DELAY</th>\n",
       "      <th>NAS_DELAY</th>\n",
       "      <th>SECURITY_DELAY</th>\n",
       "      <th>LATE_AIRCRAFT_DELAY</th>\n",
       "      <th>Unnamed: 39</th>\n",
       "    </tr>\n",
       "  </thead>\n",
       "  <tbody>\n",
       "    <tr>\n",
       "      <th>0</th>\n",
       "      <td>2018</td>\n",
       "      <td>12</td>\n",
       "      <td>27</td>\n",
       "      <td>4</td>\n",
       "      <td>2018-12-27</td>\n",
       "      <td>DL</td>\n",
       "      <td>867</td>\n",
       "      <td>15096</td>\n",
       "      <td>1509602</td>\n",
       "      <td>35096</td>\n",
       "      <td>SYR</td>\n",
       "      <td>Syracuse, NY</td>\n",
       "      <td>New York</td>\n",
       "      <td>10397</td>\n",
       "      <td>1039707</td>\n",
       "      <td>30397</td>\n",
       "      <td>ATL</td>\n",
       "      <td>Atlanta, GA</td>\n",
       "      <td>Georgia</td>\n",
       "      <td>1747</td>\n",
       "      <td>1746.0</td>\n",
       "      <td>-1.0</td>\n",
       "      <td>0.0</td>\n",
       "      <td>0.0</td>\n",
       "      <td>2022.0</td>\n",
       "      <td>-8.0</td>\n",
       "      <td>0.0</td>\n",
       "      <td>0.0</td>\n",
       "      <td>0.0</td>\n",
       "      <td>NaN</td>\n",
       "      <td>0.0</td>\n",
       "      <td>132.0</td>\n",
       "      <td>1.0</td>\n",
       "      <td>794.0</td>\n",
       "      <td>NaN</td>\n",
       "      <td>NaN</td>\n",
       "      <td>NaN</td>\n",
       "      <td>NaN</td>\n",
       "      <td>NaN</td>\n",
       "      <td>NaN</td>\n",
       "    </tr>\n",
       "    <tr>\n",
       "      <th>1</th>\n",
       "      <td>2018</td>\n",
       "      <td>12</td>\n",
       "      <td>27</td>\n",
       "      <td>4</td>\n",
       "      <td>2018-12-27</td>\n",
       "      <td>DL</td>\n",
       "      <td>868</td>\n",
       "      <td>10397</td>\n",
       "      <td>1039707</td>\n",
       "      <td>30397</td>\n",
       "      <td>ATL</td>\n",
       "      <td>Atlanta, GA</td>\n",
       "      <td>Georgia</td>\n",
       "      <td>11697</td>\n",
       "      <td>1169706</td>\n",
       "      <td>32467</td>\n",
       "      <td>FLL</td>\n",
       "      <td>Fort Lauderdale, FL</td>\n",
       "      <td>Florida</td>\n",
       "      <td>1200</td>\n",
       "      <td>1200.0</td>\n",
       "      <td>0.0</td>\n",
       "      <td>0.0</td>\n",
       "      <td>0.0</td>\n",
       "      <td>1408.0</td>\n",
       "      <td>12.0</td>\n",
       "      <td>12.0</td>\n",
       "      <td>0.0</td>\n",
       "      <td>0.0</td>\n",
       "      <td>NaN</td>\n",
       "      <td>0.0</td>\n",
       "      <td>87.0</td>\n",
       "      <td>1.0</td>\n",
       "      <td>581.0</td>\n",
       "      <td>NaN</td>\n",
       "      <td>NaN</td>\n",
       "      <td>NaN</td>\n",
       "      <td>NaN</td>\n",
       "      <td>NaN</td>\n",
       "      <td>NaN</td>\n",
       "    </tr>\n",
       "    <tr>\n",
       "      <th>2</th>\n",
       "      <td>2018</td>\n",
       "      <td>12</td>\n",
       "      <td>27</td>\n",
       "      <td>4</td>\n",
       "      <td>2018-12-27</td>\n",
       "      <td>DL</td>\n",
       "      <td>868</td>\n",
       "      <td>11697</td>\n",
       "      <td>1169706</td>\n",
       "      <td>32467</td>\n",
       "      <td>FLL</td>\n",
       "      <td>Fort Lauderdale, FL</td>\n",
       "      <td>Florida</td>\n",
       "      <td>10397</td>\n",
       "      <td>1039707</td>\n",
       "      <td>30397</td>\n",
       "      <td>ATL</td>\n",
       "      <td>Atlanta, GA</td>\n",
       "      <td>Georgia</td>\n",
       "      <td>1440</td>\n",
       "      <td>1456.0</td>\n",
       "      <td>16.0</td>\n",
       "      <td>16.0</td>\n",
       "      <td>1.0</td>\n",
       "      <td>1658.0</td>\n",
       "      <td>19.0</td>\n",
       "      <td>19.0</td>\n",
       "      <td>1.0</td>\n",
       "      <td>0.0</td>\n",
       "      <td>NaN</td>\n",
       "      <td>0.0</td>\n",
       "      <td>90.0</td>\n",
       "      <td>1.0</td>\n",
       "      <td>581.0</td>\n",
       "      <td>0.0</td>\n",
       "      <td>0.0</td>\n",
       "      <td>7.0</td>\n",
       "      <td>0.0</td>\n",
       "      <td>12.0</td>\n",
       "      <td>NaN</td>\n",
       "    </tr>\n",
       "    <tr>\n",
       "      <th>3</th>\n",
       "      <td>2018</td>\n",
       "      <td>12</td>\n",
       "      <td>27</td>\n",
       "      <td>4</td>\n",
       "      <td>2018-12-27</td>\n",
       "      <td>DL</td>\n",
       "      <td>869</td>\n",
       "      <td>14679</td>\n",
       "      <td>1467903</td>\n",
       "      <td>33570</td>\n",
       "      <td>SAN</td>\n",
       "      <td>San Diego, CA</td>\n",
       "      <td>California</td>\n",
       "      <td>14747</td>\n",
       "      <td>1474703</td>\n",
       "      <td>30559</td>\n",
       "      <td>SEA</td>\n",
       "      <td>Seattle, WA</td>\n",
       "      <td>Washington</td>\n",
       "      <td>1851</td>\n",
       "      <td>1846.0</td>\n",
       "      <td>-5.0</td>\n",
       "      <td>0.0</td>\n",
       "      <td>0.0</td>\n",
       "      <td>2205.0</td>\n",
       "      <td>11.0</td>\n",
       "      <td>11.0</td>\n",
       "      <td>0.0</td>\n",
       "      <td>0.0</td>\n",
       "      <td>NaN</td>\n",
       "      <td>0.0</td>\n",
       "      <td>175.0</td>\n",
       "      <td>1.0</td>\n",
       "      <td>1050.0</td>\n",
       "      <td>NaN</td>\n",
       "      <td>NaN</td>\n",
       "      <td>NaN</td>\n",
       "      <td>NaN</td>\n",
       "      <td>NaN</td>\n",
       "      <td>NaN</td>\n",
       "    </tr>\n",
       "    <tr>\n",
       "      <th>4</th>\n",
       "      <td>2018</td>\n",
       "      <td>12</td>\n",
       "      <td>27</td>\n",
       "      <td>4</td>\n",
       "      <td>2018-12-27</td>\n",
       "      <td>DL</td>\n",
       "      <td>869</td>\n",
       "      <td>14747</td>\n",
       "      <td>1474703</td>\n",
       "      <td>30559</td>\n",
       "      <td>SEA</td>\n",
       "      <td>Seattle, WA</td>\n",
       "      <td>Washington</td>\n",
       "      <td>14679</td>\n",
       "      <td>1467903</td>\n",
       "      <td>33570</td>\n",
       "      <td>SAN</td>\n",
       "      <td>San Diego, CA</td>\n",
       "      <td>California</td>\n",
       "      <td>1519</td>\n",
       "      <td>1519.0</td>\n",
       "      <td>0.0</td>\n",
       "      <td>0.0</td>\n",
       "      <td>0.0</td>\n",
       "      <td>1728.0</td>\n",
       "      <td>-38.0</td>\n",
       "      <td>0.0</td>\n",
       "      <td>0.0</td>\n",
       "      <td>0.0</td>\n",
       "      <td>NaN</td>\n",
       "      <td>0.0</td>\n",
       "      <td>113.0</td>\n",
       "      <td>1.0</td>\n",
       "      <td>1050.0</td>\n",
       "      <td>NaN</td>\n",
       "      <td>NaN</td>\n",
       "      <td>NaN</td>\n",
       "      <td>NaN</td>\n",
       "      <td>NaN</td>\n",
       "      <td>NaN</td>\n",
       "    </tr>\n",
       "  </tbody>\n",
       "</table>\n",
       "</div>"
      ],
      "text/plain": [
       "   YEAR  MONTH  DAY_OF_MONTH  DAY_OF_WEEK     FL_DATE OP_UNIQUE_CARRIER  \\\n",
       "0  2018     12            27            4  2018-12-27                DL   \n",
       "1  2018     12            27            4  2018-12-27                DL   \n",
       "2  2018     12            27            4  2018-12-27                DL   \n",
       "3  2018     12            27            4  2018-12-27                DL   \n",
       "4  2018     12            27            4  2018-12-27                DL   \n",
       "\n",
       "   OP_CARRIER_FL_NUM  ORIGIN_AIRPORT_ID  ORIGIN_AIRPORT_SEQ_ID  \\\n",
       "0                867              15096                1509602   \n",
       "1                868              10397                1039707   \n",
       "2                868              11697                1169706   \n",
       "3                869              14679                1467903   \n",
       "4                869              14747                1474703   \n",
       "\n",
       "   ORIGIN_CITY_MARKET_ID ORIGIN     ORIGIN_CITY_NAME ORIGIN_STATE_NM  \\\n",
       "0                  35096    SYR         Syracuse, NY        New York   \n",
       "1                  30397    ATL          Atlanta, GA         Georgia   \n",
       "2                  32467    FLL  Fort Lauderdale, FL         Florida   \n",
       "3                  33570    SAN        San Diego, CA      California   \n",
       "4                  30559    SEA          Seattle, WA      Washington   \n",
       "\n",
       "   DEST_AIRPORT_ID  DEST_AIRPORT_SEQ_ID  DEST_CITY_MARKET_ID DEST  \\\n",
       "0            10397              1039707                30397  ATL   \n",
       "1            11697              1169706                32467  FLL   \n",
       "2            10397              1039707                30397  ATL   \n",
       "3            14747              1474703                30559  SEA   \n",
       "4            14679              1467903                33570  SAN   \n",
       "\n",
       "        DEST_CITY_NAME DEST_STATE_NM  CRS_DEP_TIME  DEP_TIME  DEP_DELAY  \\\n",
       "0          Atlanta, GA       Georgia          1747    1746.0       -1.0   \n",
       "1  Fort Lauderdale, FL       Florida          1200    1200.0        0.0   \n",
       "2          Atlanta, GA       Georgia          1440    1456.0       16.0   \n",
       "3          Seattle, WA    Washington          1851    1846.0       -5.0   \n",
       "4        San Diego, CA    California          1519    1519.0        0.0   \n",
       "\n",
       "   DEP_DELAY_NEW  DEP_DEL15  ARR_TIME  ARR_DELAY  ARR_DELAY_NEW  ARR_DEL15  \\\n",
       "0            0.0        0.0    2022.0       -8.0            0.0        0.0   \n",
       "1            0.0        0.0    1408.0       12.0           12.0        0.0   \n",
       "2           16.0        1.0    1658.0       19.0           19.0        1.0   \n",
       "3            0.0        0.0    2205.0       11.0           11.0        0.0   \n",
       "4            0.0        0.0    1728.0      -38.0            0.0        0.0   \n",
       "\n",
       "   CANCELLED CANCELLATION_CODE  DIVERTED  AIR_TIME  FLIGHTS  DISTANCE  \\\n",
       "0        0.0               NaN       0.0     132.0      1.0     794.0   \n",
       "1        0.0               NaN       0.0      87.0      1.0     581.0   \n",
       "2        0.0               NaN       0.0      90.0      1.0     581.0   \n",
       "3        0.0               NaN       0.0     175.0      1.0    1050.0   \n",
       "4        0.0               NaN       0.0     113.0      1.0    1050.0   \n",
       "\n",
       "   CARRIER_DELAY  WEATHER_DELAY  NAS_DELAY  SECURITY_DELAY  \\\n",
       "0            NaN            NaN        NaN             NaN   \n",
       "1            NaN            NaN        NaN             NaN   \n",
       "2            0.0            0.0        7.0             0.0   \n",
       "3            NaN            NaN        NaN             NaN   \n",
       "4            NaN            NaN        NaN             NaN   \n",
       "\n",
       "   LATE_AIRCRAFT_DELAY  Unnamed: 39  \n",
       "0                  NaN          NaN  \n",
       "1                  NaN          NaN  \n",
       "2                 12.0          NaN  \n",
       "3                  NaN          NaN  \n",
       "4                  NaN          NaN  "
      ]
     },
     "execution_count": 93,
     "metadata": {},
     "output_type": "execute_result"
    }
   ],
   "source": [
    "df_m12.head()"
   ]
  },
  {
   "cell_type": "code",
   "execution_count": 94,
   "metadata": {},
   "outputs": [
    {
     "data": {
      "text/plain": [
       "40"
      ]
     },
     "execution_count": 94,
     "metadata": {},
     "output_type": "execute_result"
    }
   ],
   "source": [
    "len(df_m1.columns)"
   ]
  },
  {
   "cell_type": "code",
   "execution_count": 95,
   "metadata": {},
   "outputs": [
    {
     "data": {
      "text/plain": [
       "(570118, 40)"
      ]
     },
     "execution_count": 95,
     "metadata": {},
     "output_type": "execute_result"
    }
   ],
   "source": [
    "df_m1.shape"
   ]
  },
  {
   "cell_type": "code",
   "execution_count": 96,
   "metadata": {},
   "outputs": [
    {
     "data": {
      "text/plain": [
       "(593842, 40)"
      ]
     },
     "execution_count": 96,
     "metadata": {},
     "output_type": "execute_result"
    }
   ],
   "source": [
    "df_m12.shape"
   ]
  },
  {
   "cell_type": "code",
   "execution_count": 97,
   "metadata": {},
   "outputs": [],
   "source": [
    "df = pd.concat([df_m1,df_m2,df_m3,df_m4,df_m5,df_m6,df_m7,df_m8,df_m9,df_m10,df_m11,df_m12])"
   ]
  },
  {
   "cell_type": "code",
   "execution_count": 98,
   "metadata": {},
   "outputs": [
    {
     "data": {
      "text/html": [
       "<div>\n",
       "<style scoped>\n",
       "    .dataframe tbody tr th:only-of-type {\n",
       "        vertical-align: middle;\n",
       "    }\n",
       "\n",
       "    .dataframe tbody tr th {\n",
       "        vertical-align: top;\n",
       "    }\n",
       "\n",
       "    .dataframe thead th {\n",
       "        text-align: right;\n",
       "    }\n",
       "</style>\n",
       "<table border=\"1\" class=\"dataframe\">\n",
       "  <thead>\n",
       "    <tr style=\"text-align: right;\">\n",
       "      <th></th>\n",
       "      <th>YEAR</th>\n",
       "      <th>MONTH</th>\n",
       "      <th>DAY_OF_MONTH</th>\n",
       "      <th>DAY_OF_WEEK</th>\n",
       "      <th>FL_DATE</th>\n",
       "      <th>OP_UNIQUE_CARRIER</th>\n",
       "      <th>OP_CARRIER_FL_NUM</th>\n",
       "      <th>ORIGIN_AIRPORT_ID</th>\n",
       "      <th>ORIGIN_AIRPORT_SEQ_ID</th>\n",
       "      <th>ORIGIN_CITY_MARKET_ID</th>\n",
       "      <th>ORIGIN</th>\n",
       "      <th>ORIGIN_CITY_NAME</th>\n",
       "      <th>ORIGIN_STATE_NM</th>\n",
       "      <th>DEST_AIRPORT_ID</th>\n",
       "      <th>DEST_AIRPORT_SEQ_ID</th>\n",
       "      <th>DEST_CITY_MARKET_ID</th>\n",
       "      <th>DEST</th>\n",
       "      <th>DEST_CITY_NAME</th>\n",
       "      <th>DEST_STATE_NM</th>\n",
       "      <th>CRS_DEP_TIME</th>\n",
       "      <th>DEP_TIME</th>\n",
       "      <th>DEP_DELAY</th>\n",
       "      <th>DEP_DELAY_NEW</th>\n",
       "      <th>DEP_DEL15</th>\n",
       "      <th>ARR_TIME</th>\n",
       "      <th>ARR_DELAY</th>\n",
       "      <th>ARR_DELAY_NEW</th>\n",
       "      <th>ARR_DEL15</th>\n",
       "      <th>CANCELLED</th>\n",
       "      <th>CANCELLATION_CODE</th>\n",
       "      <th>DIVERTED</th>\n",
       "      <th>AIR_TIME</th>\n",
       "      <th>FLIGHTS</th>\n",
       "      <th>DISTANCE</th>\n",
       "      <th>CARRIER_DELAY</th>\n",
       "      <th>WEATHER_DELAY</th>\n",
       "      <th>NAS_DELAY</th>\n",
       "      <th>SECURITY_DELAY</th>\n",
       "      <th>LATE_AIRCRAFT_DELAY</th>\n",
       "      <th>Unnamed: 39</th>\n",
       "    </tr>\n",
       "  </thead>\n",
       "  <tbody>\n",
       "    <tr>\n",
       "      <th>523777</th>\n",
       "      <td>2018</td>\n",
       "      <td>4</td>\n",
       "      <td>13</td>\n",
       "      <td>5</td>\n",
       "      <td>2018-04-13</td>\n",
       "      <td>WN</td>\n",
       "      <td>4846</td>\n",
       "      <td>15016</td>\n",
       "      <td>1501606</td>\n",
       "      <td>31123</td>\n",
       "      <td>STL</td>\n",
       "      <td>St. Louis, MO</td>\n",
       "      <td>Missouri</td>\n",
       "      <td>13232</td>\n",
       "      <td>1323202</td>\n",
       "      <td>30977</td>\n",
       "      <td>MDW</td>\n",
       "      <td>Chicago, IL</td>\n",
       "      <td>Illinois</td>\n",
       "      <td>1735</td>\n",
       "      <td>1734.0</td>\n",
       "      <td>-1.0</td>\n",
       "      <td>0.0</td>\n",
       "      <td>0.0</td>\n",
       "      <td>1821.0</td>\n",
       "      <td>-14.0</td>\n",
       "      <td>0.0</td>\n",
       "      <td>0.0</td>\n",
       "      <td>0.0</td>\n",
       "      <td>NaN</td>\n",
       "      <td>0.0</td>\n",
       "      <td>35.0</td>\n",
       "      <td>1.0</td>\n",
       "      <td>251.0</td>\n",
       "      <td>NaN</td>\n",
       "      <td>NaN</td>\n",
       "      <td>NaN</td>\n",
       "      <td>NaN</td>\n",
       "      <td>NaN</td>\n",
       "      <td>NaN</td>\n",
       "    </tr>\n",
       "    <tr>\n",
       "      <th>177861</th>\n",
       "      <td>2018</td>\n",
       "      <td>3</td>\n",
       "      <td>26</td>\n",
       "      <td>1</td>\n",
       "      <td>2018-03-26</td>\n",
       "      <td>MQ</td>\n",
       "      <td>3785</td>\n",
       "      <td>12992</td>\n",
       "      <td>1299206</td>\n",
       "      <td>32600</td>\n",
       "      <td>LIT</td>\n",
       "      <td>Little Rock, AR</td>\n",
       "      <td>Arkansas</td>\n",
       "      <td>11298</td>\n",
       "      <td>1129806</td>\n",
       "      <td>30194</td>\n",
       "      <td>DFW</td>\n",
       "      <td>Dallas/Fort Worth, TX</td>\n",
       "      <td>Texas</td>\n",
       "      <td>1550</td>\n",
       "      <td>1543.0</td>\n",
       "      <td>-7.0</td>\n",
       "      <td>0.0</td>\n",
       "      <td>0.0</td>\n",
       "      <td>1650.0</td>\n",
       "      <td>-23.0</td>\n",
       "      <td>0.0</td>\n",
       "      <td>0.0</td>\n",
       "      <td>0.0</td>\n",
       "      <td>NaN</td>\n",
       "      <td>0.0</td>\n",
       "      <td>52.0</td>\n",
       "      <td>1.0</td>\n",
       "      <td>304.0</td>\n",
       "      <td>NaN</td>\n",
       "      <td>NaN</td>\n",
       "      <td>NaN</td>\n",
       "      <td>NaN</td>\n",
       "      <td>NaN</td>\n",
       "      <td>NaN</td>\n",
       "    </tr>\n",
       "    <tr>\n",
       "      <th>278744</th>\n",
       "      <td>2018</td>\n",
       "      <td>12</td>\n",
       "      <td>6</td>\n",
       "      <td>4</td>\n",
       "      <td>2018-12-06</td>\n",
       "      <td>AA</td>\n",
       "      <td>2754</td>\n",
       "      <td>13930</td>\n",
       "      <td>1393007</td>\n",
       "      <td>30977</td>\n",
       "      <td>ORD</td>\n",
       "      <td>Chicago, IL</td>\n",
       "      <td>Illinois</td>\n",
       "      <td>11298</td>\n",
       "      <td>1129806</td>\n",
       "      <td>30194</td>\n",
       "      <td>DFW</td>\n",
       "      <td>Dallas/Fort Worth, TX</td>\n",
       "      <td>Texas</td>\n",
       "      <td>1311</td>\n",
       "      <td>1321.0</td>\n",
       "      <td>10.0</td>\n",
       "      <td>10.0</td>\n",
       "      <td>0.0</td>\n",
       "      <td>1554.0</td>\n",
       "      <td>14.0</td>\n",
       "      <td>14.0</td>\n",
       "      <td>0.0</td>\n",
       "      <td>0.0</td>\n",
       "      <td>NaN</td>\n",
       "      <td>0.0</td>\n",
       "      <td>126.0</td>\n",
       "      <td>1.0</td>\n",
       "      <td>801.0</td>\n",
       "      <td>NaN</td>\n",
       "      <td>NaN</td>\n",
       "      <td>NaN</td>\n",
       "      <td>NaN</td>\n",
       "      <td>NaN</td>\n",
       "      <td>NaN</td>\n",
       "    </tr>\n",
       "  </tbody>\n",
       "</table>\n",
       "</div>"
      ],
      "text/plain": [
       "        YEAR  MONTH  DAY_OF_MONTH  DAY_OF_WEEK     FL_DATE OP_UNIQUE_CARRIER  \\\n",
       "523777  2018      4            13            5  2018-04-13                WN   \n",
       "177861  2018      3            26            1  2018-03-26                MQ   \n",
       "278744  2018     12             6            4  2018-12-06                AA   \n",
       "\n",
       "        OP_CARRIER_FL_NUM  ORIGIN_AIRPORT_ID  ORIGIN_AIRPORT_SEQ_ID  \\\n",
       "523777               4846              15016                1501606   \n",
       "177861               3785              12992                1299206   \n",
       "278744               2754              13930                1393007   \n",
       "\n",
       "        ORIGIN_CITY_MARKET_ID ORIGIN ORIGIN_CITY_NAME ORIGIN_STATE_NM  \\\n",
       "523777                  31123    STL    St. Louis, MO        Missouri   \n",
       "177861                  32600    LIT  Little Rock, AR        Arkansas   \n",
       "278744                  30977    ORD      Chicago, IL        Illinois   \n",
       "\n",
       "        DEST_AIRPORT_ID  DEST_AIRPORT_SEQ_ID  DEST_CITY_MARKET_ID DEST  \\\n",
       "523777            13232              1323202                30977  MDW   \n",
       "177861            11298              1129806                30194  DFW   \n",
       "278744            11298              1129806                30194  DFW   \n",
       "\n",
       "               DEST_CITY_NAME DEST_STATE_NM  CRS_DEP_TIME  DEP_TIME  \\\n",
       "523777            Chicago, IL      Illinois          1735    1734.0   \n",
       "177861  Dallas/Fort Worth, TX         Texas          1550    1543.0   \n",
       "278744  Dallas/Fort Worth, TX         Texas          1311    1321.0   \n",
       "\n",
       "        DEP_DELAY  DEP_DELAY_NEW  DEP_DEL15  ARR_TIME  ARR_DELAY  \\\n",
       "523777       -1.0            0.0        0.0    1821.0      -14.0   \n",
       "177861       -7.0            0.0        0.0    1650.0      -23.0   \n",
       "278744       10.0           10.0        0.0    1554.0       14.0   \n",
       "\n",
       "        ARR_DELAY_NEW  ARR_DEL15  CANCELLED CANCELLATION_CODE  DIVERTED  \\\n",
       "523777            0.0        0.0        0.0               NaN       0.0   \n",
       "177861            0.0        0.0        0.0               NaN       0.0   \n",
       "278744           14.0        0.0        0.0               NaN       0.0   \n",
       "\n",
       "        AIR_TIME  FLIGHTS  DISTANCE  CARRIER_DELAY  WEATHER_DELAY  NAS_DELAY  \\\n",
       "523777      35.0      1.0     251.0            NaN            NaN        NaN   \n",
       "177861      52.0      1.0     304.0            NaN            NaN        NaN   \n",
       "278744     126.0      1.0     801.0            NaN            NaN        NaN   \n",
       "\n",
       "        SECURITY_DELAY  LATE_AIRCRAFT_DELAY  Unnamed: 39  \n",
       "523777             NaN                  NaN          NaN  \n",
       "177861             NaN                  NaN          NaN  \n",
       "278744             NaN                  NaN          NaN  "
      ]
     },
     "execution_count": 98,
     "metadata": {},
     "output_type": "execute_result"
    }
   ],
   "source": [
    "df.sample(3)"
   ]
  },
  {
   "cell_type": "code",
   "execution_count": 99,
   "metadata": {},
   "outputs": [
    {
     "data": {
      "text/plain": [
       "(7213446, 40)"
      ]
     },
     "execution_count": 99,
     "metadata": {},
     "output_type": "execute_result"
    }
   ],
   "source": [
    "df.shape"
   ]
  },
  {
   "cell_type": "code",
   "execution_count": 100,
   "metadata": {},
   "outputs": [
    {
     "data": {
      "text/plain": [
       "Index(['YEAR', 'MONTH', 'DAY_OF_MONTH', 'DAY_OF_WEEK', 'FL_DATE',\n",
       "       'OP_UNIQUE_CARRIER', 'OP_CARRIER_FL_NUM', 'ORIGIN_AIRPORT_ID',\n",
       "       'ORIGIN_AIRPORT_SEQ_ID', 'ORIGIN_CITY_MARKET_ID', 'ORIGIN',\n",
       "       'ORIGIN_CITY_NAME', 'ORIGIN_STATE_NM', 'DEST_AIRPORT_ID',\n",
       "       'DEST_AIRPORT_SEQ_ID', 'DEST_CITY_MARKET_ID', 'DEST', 'DEST_CITY_NAME',\n",
       "       'DEST_STATE_NM', 'CRS_DEP_TIME', 'DEP_TIME', 'DEP_DELAY',\n",
       "       'DEP_DELAY_NEW', 'DEP_DEL15', 'ARR_TIME', 'ARR_DELAY', 'ARR_DELAY_NEW',\n",
       "       'ARR_DEL15', 'CANCELLED', 'CANCELLATION_CODE', 'DIVERTED', 'AIR_TIME',\n",
       "       'FLIGHTS', 'DISTANCE', 'CARRIER_DELAY', 'WEATHER_DELAY', 'NAS_DELAY',\n",
       "       'SECURITY_DELAY', 'LATE_AIRCRAFT_DELAY', 'Unnamed: 39'],\n",
       "      dtype='object')"
      ]
     },
     "execution_count": 100,
     "metadata": {},
     "output_type": "execute_result"
    }
   ],
   "source": [
    "df.columns"
   ]
  },
  {
   "cell_type": "code",
   "execution_count": 101,
   "metadata": {},
   "outputs": [
    {
     "data": {
      "text/plain": [
       "18"
      ]
     },
     "execution_count": 101,
     "metadata": {},
     "output_type": "execute_result"
    }
   ],
   "source": [
    "df.OP_UNIQUE_CARRIER.nunique()"
   ]
  },
  {
   "cell_type": "code",
   "execution_count": 102,
   "metadata": {},
   "outputs": [
    {
     "name": "stdout",
     "output_type": "stream",
     "text": [
      "<class 'pandas.core.frame.DataFrame'>\n",
      "Int64Index: 7213446 entries, 0 to 593841\n",
      "Data columns (total 40 columns):\n",
      " #   Column                 Dtype  \n",
      "---  ------                 -----  \n",
      " 0   YEAR                   int64  \n",
      " 1   MONTH                  int64  \n",
      " 2   DAY_OF_MONTH           int64  \n",
      " 3   DAY_OF_WEEK            int64  \n",
      " 4   FL_DATE                object \n",
      " 5   OP_UNIQUE_CARRIER      object \n",
      " 6   OP_CARRIER_FL_NUM      int64  \n",
      " 7   ORIGIN_AIRPORT_ID      int64  \n",
      " 8   ORIGIN_AIRPORT_SEQ_ID  int64  \n",
      " 9   ORIGIN_CITY_MARKET_ID  int64  \n",
      " 10  ORIGIN                 object \n",
      " 11  ORIGIN_CITY_NAME       object \n",
      " 12  ORIGIN_STATE_NM        object \n",
      " 13  DEST_AIRPORT_ID        int64  \n",
      " 14  DEST_AIRPORT_SEQ_ID    int64  \n",
      " 15  DEST_CITY_MARKET_ID    int64  \n",
      " 16  DEST                   object \n",
      " 17  DEST_CITY_NAME         object \n",
      " 18  DEST_STATE_NM          object \n",
      " 19  CRS_DEP_TIME           int64  \n",
      " 20  DEP_TIME               float64\n",
      " 21  DEP_DELAY              float64\n",
      " 22  DEP_DELAY_NEW          float64\n",
      " 23  DEP_DEL15              float64\n",
      " 24  ARR_TIME               float64\n",
      " 25  ARR_DELAY              float64\n",
      " 26  ARR_DELAY_NEW          float64\n",
      " 27  ARR_DEL15              float64\n",
      " 28  CANCELLED              float64\n",
      " 29  CANCELLATION_CODE      object \n",
      " 30  DIVERTED               float64\n",
      " 31  AIR_TIME               float64\n",
      " 32  FLIGHTS                float64\n",
      " 33  DISTANCE               float64\n",
      " 34  CARRIER_DELAY          float64\n",
      " 35  WEATHER_DELAY          float64\n",
      " 36  NAS_DELAY              float64\n",
      " 37  SECURITY_DELAY         float64\n",
      " 38  LATE_AIRCRAFT_DELAY    float64\n",
      " 39  Unnamed: 39            float64\n",
      "dtypes: float64(19), int64(12), object(9)\n",
      "memory usage: 2.2+ GB\n"
     ]
    }
   ],
   "source": [
    "df.info()"
   ]
  },
  {
   "cell_type": "code",
   "execution_count": 103,
   "metadata": {},
   "outputs": [
    {
     "data": {
      "text/plain": [
       "214"
      ]
     },
     "execution_count": 103,
     "metadata": {},
     "output_type": "execute_result"
    }
   ],
   "source": [
    "df.SECURITY_DELAY.nunique()"
   ]
  },
  {
   "cell_type": "code",
   "execution_count": 104,
   "metadata": {},
   "outputs": [
    {
     "data": {
      "text/plain": [
       "1037"
      ]
     },
     "execution_count": 104,
     "metadata": {},
     "output_type": "execute_result"
    }
   ],
   "source": [
    "df.WEATHER_DELAY.nunique()"
   ]
  },
  {
   "cell_type": "code",
   "execution_count": 105,
   "metadata": {},
   "outputs": [
    {
     "data": {
      "text/plain": [
       "0"
      ]
     },
     "execution_count": 105,
     "metadata": {},
     "output_type": "execute_result"
    }
   ],
   "source": [
    "sum(df.duplicated())"
   ]
  },
  {
   "cell_type": "code",
   "execution_count": 106,
   "metadata": {},
   "outputs": [
    {
     "data": {
      "text/plain": [
       "0"
      ]
     },
     "execution_count": 106,
     "metadata": {},
     "output_type": "execute_result"
    }
   ],
   "source": [
    "sum(df.OP_UNIQUE_CARRIER.isnull())"
   ]
  },
  {
   "cell_type": "code",
   "execution_count": 107,
   "metadata": {},
   "outputs": [
    {
     "data": {
      "text/plain": [
       "True"
      ]
     },
     "execution_count": 107,
     "metadata": {},
     "output_type": "execute_result"
    }
   ],
   "source": [
    "df.isnull().values.any()"
   ]
  },
  {
   "cell_type": "code",
   "execution_count": 108,
   "metadata": {},
   "outputs": [
    {
     "data": {
      "text/plain": [
       "YEAR                           0\n",
       "MONTH                          0\n",
       "DAY_OF_MONTH                   0\n",
       "DAY_OF_WEEK                    0\n",
       "FL_DATE                        0\n",
       "OP_UNIQUE_CARRIER              0\n",
       "OP_CARRIER_FL_NUM              0\n",
       "ORIGIN_AIRPORT_ID              0\n",
       "ORIGIN_AIRPORT_SEQ_ID          0\n",
       "ORIGIN_CITY_MARKET_ID          0\n",
       "ORIGIN                         0\n",
       "ORIGIN_CITY_NAME               0\n",
       "ORIGIN_STATE_NM                0\n",
       "DEST_AIRPORT_ID                0\n",
       "DEST_AIRPORT_SEQ_ID            0\n",
       "DEST_CITY_MARKET_ID            0\n",
       "DEST                           0\n",
       "DEST_CITY_NAME                 0\n",
       "DEST_STATE_NM                  0\n",
       "CRS_DEP_TIME                   0\n",
       "DEP_TIME                  112317\n",
       "DEP_DELAY                 117234\n",
       "DEP_DELAY_NEW             117234\n",
       "DEP_DEL15                 117234\n",
       "ARR_TIME                  119245\n",
       "ARR_DELAY                 137040\n",
       "ARR_DELAY_NEW             137040\n",
       "ARR_DEL15                 137040\n",
       "CANCELLED                      0\n",
       "CANCELLATION_CODE        7096862\n",
       "DIVERTED                       0\n",
       "AIR_TIME                  134442\n",
       "FLIGHTS                        0\n",
       "DISTANCE                       0\n",
       "CARRIER_DELAY            5860736\n",
       "WEATHER_DELAY            5860736\n",
       "NAS_DELAY                5860736\n",
       "SECURITY_DELAY           5860736\n",
       "LATE_AIRCRAFT_DELAY      5860736\n",
       "Unnamed: 39              7213446\n",
       "dtype: int64"
      ]
     },
     "execution_count": 108,
     "metadata": {},
     "output_type": "execute_result"
    }
   ],
   "source": [
    "df.isnull().sum()"
   ]
  },
  {
   "cell_type": "code",
   "execution_count": 109,
   "metadata": {},
   "outputs": [
    {
     "data": {
      "text/plain": [
       "array([1.])"
      ]
     },
     "execution_count": 109,
     "metadata": {},
     "output_type": "execute_result"
    }
   ],
   "source": [
    "df.FLIGHTS.unique()"
   ]
  },
  {
   "cell_type": "code",
   "execution_count": 110,
   "metadata": {},
   "outputs": [
    {
     "data": {
      "text/plain": [
       "array([7, 3, 6, 1, 2, 4, 5], dtype=int64)"
      ]
     },
     "execution_count": 110,
     "metadata": {},
     "output_type": "execute_result"
    }
   ],
   "source": [
    "df.DAY_OF_WEEK.unique()"
   ]
  },
  {
   "cell_type": "markdown",
   "metadata": {},
   "source": [
    "### Quality:\n",
    "\n",
    "- Change datatypes for multipe columns. \n",
    "- Missing values on some of the columns. \n",
    "\n",
    "### Tidiness:\n",
    "- The data has multiple files; it should be gathered as one dataframe. \n",
    "- Drop unnecessary columns. \n",
    "- Since CARRIER_DELAY , WEATHER_DELAY, NAS_DELAY, SECURITY_DELAY, LATE_AIRCRAFT_DELAY has more than 80% missing data, we should remove them. \n"
   ]
  },
  {
   "cell_type": "markdown",
   "metadata": {},
   "source": [
    "## Cleaning"
   ]
  },
  {
   "cell_type": "code",
   "execution_count": 111,
   "metadata": {},
   "outputs": [
    {
     "data": {
      "text/html": [
       "<div>\n",
       "<style scoped>\n",
       "    .dataframe tbody tr th:only-of-type {\n",
       "        vertical-align: middle;\n",
       "    }\n",
       "\n",
       "    .dataframe tbody tr th {\n",
       "        vertical-align: top;\n",
       "    }\n",
       "\n",
       "    .dataframe thead th {\n",
       "        text-align: right;\n",
       "    }\n",
       "</style>\n",
       "<table border=\"1\" class=\"dataframe\">\n",
       "  <thead>\n",
       "    <tr style=\"text-align: right;\">\n",
       "      <th></th>\n",
       "      <th>YEAR</th>\n",
       "      <th>MONTH</th>\n",
       "      <th>DAY_OF_MONTH</th>\n",
       "      <th>DAY_OF_WEEK</th>\n",
       "      <th>FL_DATE</th>\n",
       "      <th>OP_UNIQUE_CARRIER</th>\n",
       "      <th>OP_CARRIER_FL_NUM</th>\n",
       "      <th>ORIGIN_AIRPORT_ID</th>\n",
       "      <th>ORIGIN_AIRPORT_SEQ_ID</th>\n",
       "      <th>ORIGIN_CITY_MARKET_ID</th>\n",
       "      <th>ORIGIN</th>\n",
       "      <th>ORIGIN_CITY_NAME</th>\n",
       "      <th>ORIGIN_STATE_NM</th>\n",
       "      <th>DEST_AIRPORT_ID</th>\n",
       "      <th>DEST_AIRPORT_SEQ_ID</th>\n",
       "      <th>DEST_CITY_MARKET_ID</th>\n",
       "      <th>DEST</th>\n",
       "      <th>DEST_CITY_NAME</th>\n",
       "      <th>DEST_STATE_NM</th>\n",
       "      <th>CRS_DEP_TIME</th>\n",
       "      <th>DEP_TIME</th>\n",
       "      <th>DEP_DELAY</th>\n",
       "      <th>DEP_DELAY_NEW</th>\n",
       "      <th>DEP_DEL15</th>\n",
       "      <th>ARR_TIME</th>\n",
       "      <th>ARR_DELAY</th>\n",
       "      <th>ARR_DELAY_NEW</th>\n",
       "      <th>ARR_DEL15</th>\n",
       "      <th>CANCELLED</th>\n",
       "      <th>CANCELLATION_CODE</th>\n",
       "      <th>DIVERTED</th>\n",
       "      <th>AIR_TIME</th>\n",
       "      <th>FLIGHTS</th>\n",
       "      <th>DISTANCE</th>\n",
       "      <th>CARRIER_DELAY</th>\n",
       "      <th>WEATHER_DELAY</th>\n",
       "      <th>NAS_DELAY</th>\n",
       "      <th>SECURITY_DELAY</th>\n",
       "      <th>LATE_AIRCRAFT_DELAY</th>\n",
       "      <th>Unnamed: 39</th>\n",
       "    </tr>\n",
       "  </thead>\n",
       "  <tbody>\n",
       "    <tr>\n",
       "      <th>184522</th>\n",
       "      <td>2018</td>\n",
       "      <td>12</td>\n",
       "      <td>16</td>\n",
       "      <td>7</td>\n",
       "      <td>2018-12-16</td>\n",
       "      <td>AA</td>\n",
       "      <td>1080</td>\n",
       "      <td>11298</td>\n",
       "      <td>1129806</td>\n",
       "      <td>30194</td>\n",
       "      <td>DFW</td>\n",
       "      <td>Dallas/Fort Worth, TX</td>\n",
       "      <td>Texas</td>\n",
       "      <td>13930</td>\n",
       "      <td>1393007</td>\n",
       "      <td>30977</td>\n",
       "      <td>ORD</td>\n",
       "      <td>Chicago, IL</td>\n",
       "      <td>Illinois</td>\n",
       "      <td>1240</td>\n",
       "      <td>1240.0</td>\n",
       "      <td>0.0</td>\n",
       "      <td>0.0</td>\n",
       "      <td>0.0</td>\n",
       "      <td>1452.0</td>\n",
       "      <td>-10.0</td>\n",
       "      <td>0.0</td>\n",
       "      <td>0.0</td>\n",
       "      <td>0.0</td>\n",
       "      <td>NaN</td>\n",
       "      <td>0.0</td>\n",
       "      <td>110.0</td>\n",
       "      <td>1.0</td>\n",
       "      <td>801.0</td>\n",
       "      <td>NaN</td>\n",
       "      <td>NaN</td>\n",
       "      <td>NaN</td>\n",
       "      <td>NaN</td>\n",
       "      <td>NaN</td>\n",
       "      <td>NaN</td>\n",
       "    </tr>\n",
       "  </tbody>\n",
       "</table>\n",
       "</div>"
      ],
      "text/plain": [
       "        YEAR  MONTH  DAY_OF_MONTH  DAY_OF_WEEK     FL_DATE OP_UNIQUE_CARRIER  \\\n",
       "184522  2018     12            16            7  2018-12-16                AA   \n",
       "\n",
       "        OP_CARRIER_FL_NUM  ORIGIN_AIRPORT_ID  ORIGIN_AIRPORT_SEQ_ID  \\\n",
       "184522               1080              11298                1129806   \n",
       "\n",
       "        ORIGIN_CITY_MARKET_ID ORIGIN       ORIGIN_CITY_NAME ORIGIN_STATE_NM  \\\n",
       "184522                  30194    DFW  Dallas/Fort Worth, TX           Texas   \n",
       "\n",
       "        DEST_AIRPORT_ID  DEST_AIRPORT_SEQ_ID  DEST_CITY_MARKET_ID DEST  \\\n",
       "184522            13930              1393007                30977  ORD   \n",
       "\n",
       "       DEST_CITY_NAME DEST_STATE_NM  CRS_DEP_TIME  DEP_TIME  DEP_DELAY  \\\n",
       "184522    Chicago, IL      Illinois          1240    1240.0        0.0   \n",
       "\n",
       "        DEP_DELAY_NEW  DEP_DEL15  ARR_TIME  ARR_DELAY  ARR_DELAY_NEW  \\\n",
       "184522            0.0        0.0    1452.0      -10.0            0.0   \n",
       "\n",
       "        ARR_DEL15  CANCELLED CANCELLATION_CODE  DIVERTED  AIR_TIME  FLIGHTS  \\\n",
       "184522        0.0        0.0               NaN       0.0     110.0      1.0   \n",
       "\n",
       "        DISTANCE  CARRIER_DELAY  WEATHER_DELAY  NAS_DELAY  SECURITY_DELAY  \\\n",
       "184522     801.0            NaN            NaN        NaN             NaN   \n",
       "\n",
       "        LATE_AIRCRAFT_DELAY  Unnamed: 39  \n",
       "184522                  NaN          NaN  "
      ]
     },
     "execution_count": 111,
     "metadata": {},
     "output_type": "execute_result"
    }
   ],
   "source": [
    "df.sample(1)"
   ]
  },
  {
   "cell_type": "code",
   "execution_count": 112,
   "metadata": {
    "scrolled": true
   },
   "outputs": [
    {
     "name": "stdout",
     "output_type": "stream",
     "text": [
      "<class 'pandas.core.frame.DataFrame'>\n",
      "Int64Index: 7213446 entries, 0 to 593841\n",
      "Data columns (total 40 columns):\n",
      " #   Column                 Dtype  \n",
      "---  ------                 -----  \n",
      " 0   YEAR                   int64  \n",
      " 1   MONTH                  int64  \n",
      " 2   DAY_OF_MONTH           int64  \n",
      " 3   DAY_OF_WEEK            int64  \n",
      " 4   FL_DATE                object \n",
      " 5   OP_UNIQUE_CARRIER      object \n",
      " 6   OP_CARRIER_FL_NUM      int64  \n",
      " 7   ORIGIN_AIRPORT_ID      int64  \n",
      " 8   ORIGIN_AIRPORT_SEQ_ID  int64  \n",
      " 9   ORIGIN_CITY_MARKET_ID  int64  \n",
      " 10  ORIGIN                 object \n",
      " 11  ORIGIN_CITY_NAME       object \n",
      " 12  ORIGIN_STATE_NM        object \n",
      " 13  DEST_AIRPORT_ID        int64  \n",
      " 14  DEST_AIRPORT_SEQ_ID    int64  \n",
      " 15  DEST_CITY_MARKET_ID    int64  \n",
      " 16  DEST                   object \n",
      " 17  DEST_CITY_NAME         object \n",
      " 18  DEST_STATE_NM          object \n",
      " 19  CRS_DEP_TIME           int64  \n",
      " 20  DEP_TIME               float64\n",
      " 21  DEP_DELAY              float64\n",
      " 22  DEP_DELAY_NEW          float64\n",
      " 23  DEP_DEL15              float64\n",
      " 24  ARR_TIME               float64\n",
      " 25  ARR_DELAY              float64\n",
      " 26  ARR_DELAY_NEW          float64\n",
      " 27  ARR_DEL15              float64\n",
      " 28  CANCELLED              float64\n",
      " 29  CANCELLATION_CODE      object \n",
      " 30  DIVERTED               float64\n",
      " 31  AIR_TIME               float64\n",
      " 32  FLIGHTS                float64\n",
      " 33  DISTANCE               float64\n",
      " 34  CARRIER_DELAY          float64\n",
      " 35  WEATHER_DELAY          float64\n",
      " 36  NAS_DELAY              float64\n",
      " 37  SECURITY_DELAY         float64\n",
      " 38  LATE_AIRCRAFT_DELAY    float64\n",
      " 39  Unnamed: 39            float64\n",
      "dtypes: float64(19), int64(12), object(9)\n",
      "memory usage: 2.2+ GB\n"
     ]
    }
   ],
   "source": [
    "df.info()"
   ]
  },
  {
   "cell_type": "code",
   "execution_count": 113,
   "metadata": {},
   "outputs": [],
   "source": [
    "# Droping unwanted columns\n",
    "\n",
    "df.drop(['ORIGIN_AIRPORT_ID', 'ORIGIN_AIRPORT_SEQ_ID', 'ORIGIN_CITY_MARKET_ID', 'DEST_AIRPORT_ID',\n",
    "        'DEST_AIRPORT_SEQ_ID', 'DEST_CITY_MARKET_ID', 'CANCELLATION_CODE', 'CARRIER_DELAY',\n",
    "        'WEATHER_DELAY', 'NAS_DELAY', 'SECURITY_DELAY', 'LATE_AIRCRAFT_DELAY', 'Unnamed: 39',\n",
    "        'FL_DATE','OP_CARRIER_FL_NUM', 'FLIGHTS', 'YEAR', 'ORIGIN_CITY_NAME',\n",
    "        'DEST_CITY_NAME','CRS_DEP_TIME','DEP_DELAY_NEW','ARR_DELAY_NEW'], axis=1, inplace=True)"
   ]
  },
  {
   "cell_type": "code",
   "execution_count": 114,
   "metadata": {},
   "outputs": [
    {
     "name": "stdout",
     "output_type": "stream",
     "text": [
      "<class 'pandas.core.frame.DataFrame'>\n",
      "Int64Index: 7213446 entries, 0 to 593841\n",
      "Data columns (total 18 columns):\n",
      " #   Column             Dtype  \n",
      "---  ------             -----  \n",
      " 0   MONTH              int64  \n",
      " 1   DAY_OF_MONTH       int64  \n",
      " 2   DAY_OF_WEEK        int64  \n",
      " 3   OP_UNIQUE_CARRIER  object \n",
      " 4   ORIGIN             object \n",
      " 5   ORIGIN_STATE_NM    object \n",
      " 6   DEST               object \n",
      " 7   DEST_STATE_NM      object \n",
      " 8   DEP_TIME           float64\n",
      " 9   DEP_DELAY          float64\n",
      " 10  DEP_DEL15          float64\n",
      " 11  ARR_TIME           float64\n",
      " 12  ARR_DELAY          float64\n",
      " 13  ARR_DEL15          float64\n",
      " 14  CANCELLED          float64\n",
      " 15  DIVERTED           float64\n",
      " 16  AIR_TIME           float64\n",
      " 17  DISTANCE           float64\n",
      "dtypes: float64(10), int64(3), object(5)\n",
      "memory usage: 1.0+ GB\n"
     ]
    }
   ],
   "source": [
    "df.info()"
   ]
  },
  {
   "cell_type": "code",
   "execution_count": 115,
   "metadata": {},
   "outputs": [
    {
     "data": {
      "text/html": [
       "<div>\n",
       "<style scoped>\n",
       "    .dataframe tbody tr th:only-of-type {\n",
       "        vertical-align: middle;\n",
       "    }\n",
       "\n",
       "    .dataframe tbody tr th {\n",
       "        vertical-align: top;\n",
       "    }\n",
       "\n",
       "    .dataframe thead th {\n",
       "        text-align: right;\n",
       "    }\n",
       "</style>\n",
       "<table border=\"1\" class=\"dataframe\">\n",
       "  <thead>\n",
       "    <tr style=\"text-align: right;\">\n",
       "      <th></th>\n",
       "      <th>MONTH</th>\n",
       "      <th>DAY_OF_MONTH</th>\n",
       "      <th>DAY_OF_WEEK</th>\n",
       "      <th>OP_UNIQUE_CARRIER</th>\n",
       "      <th>ORIGIN</th>\n",
       "      <th>ORIGIN_STATE_NM</th>\n",
       "      <th>DEST</th>\n",
       "      <th>DEST_STATE_NM</th>\n",
       "      <th>DEP_TIME</th>\n",
       "      <th>DEP_DELAY</th>\n",
       "      <th>DEP_DEL15</th>\n",
       "      <th>ARR_TIME</th>\n",
       "      <th>ARR_DELAY</th>\n",
       "      <th>ARR_DEL15</th>\n",
       "      <th>CANCELLED</th>\n",
       "      <th>DIVERTED</th>\n",
       "      <th>AIR_TIME</th>\n",
       "      <th>DISTANCE</th>\n",
       "    </tr>\n",
       "  </thead>\n",
       "  <tbody>\n",
       "    <tr>\n",
       "      <th>549844</th>\n",
       "      <td>9</td>\n",
       "      <td>19</td>\n",
       "      <td>3</td>\n",
       "      <td>WN</td>\n",
       "      <td>BNA</td>\n",
       "      <td>Tennessee</td>\n",
       "      <td>MDW</td>\n",
       "      <td>Illinois</td>\n",
       "      <td>2138.0</td>\n",
       "      <td>-7.0</td>\n",
       "      <td>0.0</td>\n",
       "      <td>2257.0</td>\n",
       "      <td>-3.0</td>\n",
       "      <td>0.0</td>\n",
       "      <td>0.0</td>\n",
       "      <td>0.0</td>\n",
       "      <td>63.0</td>\n",
       "      <td>395.0</td>\n",
       "    </tr>\n",
       "    <tr>\n",
       "      <th>464336</th>\n",
       "      <td>3</td>\n",
       "      <td>14</td>\n",
       "      <td>3</td>\n",
       "      <td>9E</td>\n",
       "      <td>ATL</td>\n",
       "      <td>Georgia</td>\n",
       "      <td>IAH</td>\n",
       "      <td>Texas</td>\n",
       "      <td>726.0</td>\n",
       "      <td>-3.0</td>\n",
       "      <td>0.0</td>\n",
       "      <td>842.0</td>\n",
       "      <td>-3.0</td>\n",
       "      <td>0.0</td>\n",
       "      <td>0.0</td>\n",
       "      <td>0.0</td>\n",
       "      <td>112.0</td>\n",
       "      <td>689.0</td>\n",
       "    </tr>\n",
       "  </tbody>\n",
       "</table>\n",
       "</div>"
      ],
      "text/plain": [
       "        MONTH  DAY_OF_MONTH  DAY_OF_WEEK OP_UNIQUE_CARRIER ORIGIN  \\\n",
       "549844      9            19            3                WN    BNA   \n",
       "464336      3            14            3                9E    ATL   \n",
       "\n",
       "       ORIGIN_STATE_NM DEST DEST_STATE_NM  DEP_TIME  DEP_DELAY  DEP_DEL15  \\\n",
       "549844       Tennessee  MDW      Illinois    2138.0       -7.0        0.0   \n",
       "464336         Georgia  IAH         Texas     726.0       -3.0        0.0   \n",
       "\n",
       "        ARR_TIME  ARR_DELAY  ARR_DEL15  CANCELLED  DIVERTED  AIR_TIME  \\\n",
       "549844    2257.0       -3.0        0.0        0.0       0.0      63.0   \n",
       "464336     842.0       -3.0        0.0        0.0       0.0     112.0   \n",
       "\n",
       "        DISTANCE  \n",
       "549844     395.0  \n",
       "464336     689.0  "
      ]
     },
     "execution_count": 115,
     "metadata": {},
     "output_type": "execute_result"
    }
   ],
   "source": [
    "df.sample(2)"
   ]
  },
  {
   "cell_type": "code",
   "execution_count": 116,
   "metadata": {},
   "outputs": [
    {
     "name": "stdout",
     "output_type": "stream",
     "text": [
      "<class 'pandas.core.frame.DataFrame'>\n",
      "Int64Index: 7213446 entries, 0 to 593841\n",
      "Data columns (total 18 columns):\n",
      " #   Column             Dtype  \n",
      "---  ------             -----  \n",
      " 0   MONTH              int64  \n",
      " 1   DAY_OF_MONTH       int64  \n",
      " 2   DAY_OF_WEEK        int64  \n",
      " 3   OP_UNIQUE_CARRIER  object \n",
      " 4   ORIGIN             object \n",
      " 5   ORIGIN_STATE_NM    object \n",
      " 6   DEST               object \n",
      " 7   DEST_STATE_NM      object \n",
      " 8   DEP_TIME           float64\n",
      " 9   DEP_DELAY          float64\n",
      " 10  DEP_DEL15          float64\n",
      " 11  ARR_TIME           float64\n",
      " 12  ARR_DELAY          float64\n",
      " 13  ARR_DEL15          float64\n",
      " 14  CANCELLED          float64\n",
      " 15  DIVERTED           float64\n",
      " 16  AIR_TIME           float64\n",
      " 17  DISTANCE           float64\n",
      "dtypes: float64(10), int64(3), object(5)\n",
      "memory usage: 1.0+ GB\n"
     ]
    }
   ],
   "source": [
    "df.info()"
   ]
  },
  {
   "cell_type": "code",
   "execution_count": 117,
   "metadata": {
    "scrolled": false
   },
   "outputs": [
    {
     "data": {
      "text/plain": [
       "MONTH                     0\n",
       "DAY_OF_MONTH              0\n",
       "DAY_OF_WEEK               0\n",
       "OP_UNIQUE_CARRIER         0\n",
       "ORIGIN                    0\n",
       "ORIGIN_STATE_NM           0\n",
       "DEST                      0\n",
       "DEST_STATE_NM             0\n",
       "DEP_TIME             112317\n",
       "DEP_DELAY            117234\n",
       "DEP_DEL15            117234\n",
       "ARR_TIME             119245\n",
       "ARR_DELAY            137040\n",
       "ARR_DEL15            137040\n",
       "CANCELLED                 0\n",
       "DIVERTED                  0\n",
       "AIR_TIME             134442\n",
       "DISTANCE                  0\n",
       "dtype: int64"
      ]
     },
     "execution_count": 117,
     "metadata": {},
     "output_type": "execute_result"
    }
   ],
   "source": [
    "df.isnull().sum()"
   ]
  },
  {
   "cell_type": "code",
   "execution_count": 118,
   "metadata": {},
   "outputs": [],
   "source": [
    "# Droping NA values. \n",
    "\n",
    "df = df.dropna()"
   ]
  },
  {
   "cell_type": "code",
   "execution_count": 119,
   "metadata": {},
   "outputs": [
    {
     "data": {
      "text/plain": [
       "MONTH                0\n",
       "DAY_OF_MONTH         0\n",
       "DAY_OF_WEEK          0\n",
       "OP_UNIQUE_CARRIER    0\n",
       "ORIGIN               0\n",
       "ORIGIN_STATE_NM      0\n",
       "DEST                 0\n",
       "DEST_STATE_NM        0\n",
       "DEP_TIME             0\n",
       "DEP_DELAY            0\n",
       "DEP_DEL15            0\n",
       "ARR_TIME             0\n",
       "ARR_DELAY            0\n",
       "ARR_DEL15            0\n",
       "CANCELLED            0\n",
       "DIVERTED             0\n",
       "AIR_TIME             0\n",
       "DISTANCE             0\n",
       "dtype: int64"
      ]
     },
     "execution_count": 119,
     "metadata": {},
     "output_type": "execute_result"
    }
   ],
   "source": [
    "df.isnull().sum()"
   ]
  },
  {
   "cell_type": "code",
   "execution_count": 120,
   "metadata": {},
   "outputs": [
    {
     "data": {
      "text/plain": [
       "(7071817, 18)"
      ]
     },
     "execution_count": 120,
     "metadata": {},
     "output_type": "execute_result"
    }
   ],
   "source": [
    "df.shape"
   ]
  },
  {
   "cell_type": "code",
   "execution_count": 122,
   "metadata": {},
   "outputs": [],
   "source": [
    "# Covert datatype for some of the columns. \n",
    "\n",
    "df['OP_UNIQUE_CARRIER'] = df.OP_UNIQUE_CARRIER.astype('category')\n",
    "df['ORIGIN'] = df.ORIGIN.astype('category')\n",
    "df['DEST'] = df.DEST.astype('category')\n",
    "df['ORIGIN_STATE_NM'] = df.ORIGIN_STATE_NM.astype('category')\n",
    "df['DEST_STATE_NM'] = df.DEST_STATE_NM.astype('category')\n",
    "df['DEP_DEL15'] = df.DEP_DEL15.astype('category')\n",
    "df['ARR_DEL15'] = df.ARR_DEL15.astype('category')\n",
    "df['CANCELLED'] = df.CANCELLED.astype('category')\n",
    "df['DIVERTED'] = df.DIVERTED.astype('category')\n"
   ]
  },
  {
   "cell_type": "code",
   "execution_count": 123,
   "metadata": {},
   "outputs": [
    {
     "data": {
      "text/plain": [
       "array(['Wednesday', 'Saturday', 'Sunday', 'Monday', 'Tuesday', 'Thursday',\n",
       "       'Friday'], dtype=object)"
      ]
     },
     "execution_count": 123,
     "metadata": {},
     "output_type": "execute_result"
    }
   ],
   "source": [
    "# converting months and day of the week to a readable format.\n",
    "df['DAY_OF_WEEK'] = df['DAY_OF_WEEK'].replace([1,2,3,4,5,6,7],\n",
    "                                              ['Monday','Tuesday','Wednesday','Thursday','Friday','Saturday','Sunday'])\n",
    "\n",
    "df['DAY_OF_WEEK'].unique()"
   ]
  },
  {
   "cell_type": "code",
   "execution_count": 124,
   "metadata": {},
   "outputs": [
    {
     "data": {
      "text/plain": [
       "array(['Jan', 'Feb', 'Mar', 'Apr', 'May', 'Jun', 'Jul', 'Aug', 'Sep',\n",
       "       'Oct', 'Nov', 'Dec'], dtype=object)"
      ]
     },
     "execution_count": 124,
     "metadata": {},
     "output_type": "execute_result"
    }
   ],
   "source": [
    "months_str = ['Jan', 'Feb' , 'Mar' , 'Apr' , 'May' ,\n",
    "              'Jun', 'Jul' , 'Aug' , 'Sep' , 'Oct' , 'Nov' ,\n",
    "              'Dec']\n",
    "\n",
    "df['MONTH'] = df['MONTH'].replace([1,2,3,4,5,6,7,8,9,10,11,12],\n",
    "                                 months_str)\n",
    "\n",
    "df['MONTH'].unique()"
   ]
  },
  {
   "cell_type": "code",
   "execution_count": 125,
   "metadata": {},
   "outputs": [],
   "source": [
    "df['MONTH'] = df.MONTH.astype('category')\n",
    "df['DAY_OF_WEEK'] = df.DAY_OF_WEEK.astype('category')"
   ]
  },
  {
   "cell_type": "code",
   "execution_count": 189,
   "metadata": {},
   "outputs": [],
   "source": [
    "df.rename(columns={'OP_UNIQUE_CARRIER': 'CARRIER'},inplace=True)"
   ]
  },
  {
   "cell_type": "markdown",
   "metadata": {},
   "source": [
    "### Storage"
   ]
  },
  {
   "cell_type": "code",
   "execution_count": 190,
   "metadata": {},
   "outputs": [],
   "source": [
    "df.to_csv('master_flights.csv')"
   ]
  },
  {
   "cell_type": "code",
   "execution_count": 152,
   "metadata": {
    "scrolled": true
   },
   "outputs": [
    {
     "name": "stdout",
     "output_type": "stream",
     "text": [
      "<class 'pandas.core.frame.DataFrame'>\n",
      "Int64Index: 7071817 entries, 1 to 593841\n",
      "Data columns (total 18 columns):\n",
      " #   Column           Dtype   \n",
      "---  ------           -----   \n",
      " 0   MONTH            category\n",
      " 1   DAY_OF_MONTH     int64   \n",
      " 2   DAY_OF_WEEK      category\n",
      " 3   CARRIER          category\n",
      " 4   ORIGIN           category\n",
      " 5   ORIGIN_STATE_NM  category\n",
      " 6   DEST             category\n",
      " 7   DEST_STATE_NM    category\n",
      " 8   DEP_TIME         float64 \n",
      " 9   DEP_DELAY        float64 \n",
      " 10  DEP_DEL15        category\n",
      " 11  ARR_TIME         float64 \n",
      " 12  ARR_DELAY        float64 \n",
      " 13  ARR_DEL15        category\n",
      " 14  CANCELLED        category\n",
      " 15  DIVERTED         category\n",
      " 16  AIR_TIME         float64 \n",
      " 17  DISTANCE         float64 \n",
      "dtypes: category(11), float64(6), int64(1)\n",
      "memory usage: 519.3 MB\n"
     ]
    }
   ],
   "source": [
    "df.info()"
   ]
  },
  {
   "cell_type": "markdown",
   "metadata": {},
   "source": [
    "## Insights and visulizations\n",
    "\n",
    "### Tthe intreseting features of the dataset are:\n",
    "- CARRIER\n",
    "- MONTH\n",
    "- DAY_OF_WEEK\n",
    "- DEP_DELAY\n",
    "- ARR_DELAY\n",
    "- ARR_DEL15\n"
   ]
  },
  {
   "cell_type": "markdown",
   "metadata": {},
   "source": [
    "### Univariate Exploration of Data. "
   ]
  },
  {
   "cell_type": "markdown",
   "metadata": {},
   "source": [
    "### The Distribution of flight based on carrier. "
   ]
  },
  {
   "cell_type": "code",
   "execution_count": 154,
   "metadata": {
    "scrolled": false
   },
   "outputs": [
    {
     "data": {
      "image/png": "[encoded data removed]",
      "text/plain": [
       "<Figure size 432x288 with 1 Axes>"
      ]
     },
     "metadata": {},
     "output_type": "display_data"
    }
   ],
   "source": [
    "base_color = sb.color_palette()[0]\n",
    "months_order = df['CARRIER'].value_counts().index\n",
    "\n",
    "sb.countplot(data=df, x='CARRIER', color = base_color,\n",
    "            order=months_order);"
   ]
  },
  {
   "cell_type": "markdown",
   "metadata": {},
   "source": [
    "#### Southwest Airline(WN) has the most air traffic compared to all of the carriers in the dataset. It has ~1.4 million flight for the year of 2018. Followd by Delta airlines(DL). Virgin Airline is in the bottom of the list, and the reason is becuase it does not fly for many states. "
   ]
  },
  {
   "cell_type": "markdown",
   "metadata": {},
   "source": [
    "### The Months Distribution Based on number of flights. "
   ]
  },
  {
   "cell_type": "code",
   "execution_count": 155,
   "metadata": {
    "scrolled": true
   },
   "outputs": [
    {
     "data": {
      "image/png": "[encoded data removed]",
      "text/plain": [
       "<Figure size 432x288 with 1 Axes>"
      ]
     },
     "metadata": {},
     "output_type": "display_data"
    }
   ],
   "source": [
    "base_color = sb.color_palette()[0]\n",
    "months_order = df['MONTH'].value_counts().index\n",
    "\n",
    "sb.countplot(data=df, x='MONTH', color = base_color,\n",
    "            order=months_order);"
   ]
  },
  {
   "cell_type": "markdown",
   "metadata": {},
   "source": [
    "#### The busiest month is july followed by Aug and Jun, It makes sense becuase people tend to travel alot in the summer season.  "
   ]
  },
  {
   "cell_type": "markdown",
   "metadata": {},
   "source": [
    "### Days Distribution "
   ]
  },
  {
   "cell_type": "code",
   "execution_count": 188,
   "metadata": {
    "scrolled": true
   },
   "outputs": [
    {
     "data": {
      "image/png": "[encoded data removed]",
      "text/plain": [
       "<Figure size 432x288 with 1 Axes>"
      ]
     },
     "metadata": {},
     "output_type": "display_data"
    }
   ],
   "source": [
    "base_color = sb.color_palette()[0]\n",
    "months_order = df['DAY_OF_WEEK'].value_counts().index\n",
    "\n",
    "sb.countplot(data=df, x='DAY_OF_WEEK', color = base_color,\n",
    "            order=months_order);"
   ]
  },
  {
   "cell_type": "markdown",
   "metadata": {},
   "source": [
    "#### Monday is the busiest day of the week.Since Monday is the start of the week and people tend to travel for business or work. People are less to travel in the weekend, becuase if people are planning to spend the weekend traveling somewhere they probably will travel on Friday which is the next busiest day. "
   ]
  },
  {
   "cell_type": "markdown",
   "metadata": {},
   "source": [
    "### Bivariate Exploration of Data"
   ]
  },
  {
   "cell_type": "markdown",
   "metadata": {},
   "source": [
    "### Is there any corrlation between departure delay and arrival delay? "
   ]
  },
  {
   "cell_type": "code",
   "execution_count": 130,
   "metadata": {
    "scrolled": true
   },
   "outputs": [
    {
     "data": {
      "text/plain": [
       "<matplotlib.collections.PathCollection at 0x24305af7520>"
      ]
     },
     "execution_count": 130,
     "metadata": {},
     "output_type": "execute_result"
    },
    {
     "data": {
      "image/png": "[encoded data removed]",
      "text/plain": [
       "<Figure size 432x288 with 1 Axes>"
      ]
     },
     "metadata": {
      "needs_background": "light"
     },
     "output_type": "display_data"
    }
   ],
   "source": [
    "plt.scatter(data=df, x = 'DEP_DELAY', y='ARR_DELAY')"
   ]
  },
  {
   "cell_type": "markdown",
   "metadata": {},
   "source": [
    "#### There is a strong positive corrleation between departure and arrival delay. It makes sense becuase if the departure delayed the arrival will also get dalyed."
   ]
  },
  {
   "cell_type": "markdown",
   "metadata": {},
   "source": [
    "### The monthely Distribution of Departure delay flight."
   ]
  },
  {
   "cell_type": "code",
   "execution_count": 157,
   "metadata": {
    "scrolled": true
   },
   "outputs": [
    {
     "data": {
      "image/png": "[encoded data removed]",
      "text/plain": [
       "<Figure size 432x288 with 1 Axes>"
      ]
     },
     "metadata": {},
     "output_type": "display_data"
    }
   ],
   "source": [
    "plt.scatter(data=df, x= 'DEP_DELAY', y='MONTH', alpha=1/5);"
   ]
  },
  {
   "cell_type": "markdown",
   "metadata": {},
   "source": [
    "#### Jan, Dec has the most departure delays. Im assuming becuase of the weather conditions since it's Winter time in the U.S. "
   ]
  },
  {
   "cell_type": "markdown",
   "metadata": {},
   "source": [
    "### The Days Distribution of Delayed Flight."
   ]
  },
  {
   "cell_type": "code",
   "execution_count": 158,
   "metadata": {},
   "outputs": [
    {
     "data": {
      "text/plain": [
       "<matplotlib.axes._subplots.AxesSubplot at 0x24324377640>"
      ]
     },
     "execution_count": 158,
     "metadata": {},
     "output_type": "execute_result"
    },
    {
     "data": {
      "image/png": "[encoded data removed]",
      "text/plain": [
       "<Figure size 1152x7200 with 1 Axes>"
      ]
     },
     "metadata": {},
     "output_type": "display_data"
    }
   ],
   "source": [
    "plt.figure(figsize=(16,100))\n",
    "sb.boxplot(data=df, x = 'DAY_OF_WEEK', y ='DEP_DELAY')\n"
   ]
  },
  {
   "cell_type": "markdown",
   "metadata": {},
   "source": [
    "#### Thrusday and Tuesday are best days to travel, Flights on theses two days usually take off on the exact time or even sooner than expected. On the other hand Friday and Monday has the most departure daleys and some times the delay take longer time."
   ]
  },
  {
   "cell_type": "markdown",
   "metadata": {},
   "source": [
    "### multivariate Exploration of Data"
   ]
  },
  {
   "cell_type": "code",
   "execution_count": 159,
   "metadata": {},
   "outputs": [
    {
     "data": {
      "text/html": [
       "<div>\n",
       "<style scoped>\n",
       "    .dataframe tbody tr th:only-of-type {\n",
       "        vertical-align: middle;\n",
       "    }\n",
       "\n",
       "    .dataframe tbody tr th {\n",
       "        vertical-align: top;\n",
       "    }\n",
       "\n",
       "    .dataframe thead th {\n",
       "        text-align: right;\n",
       "    }\n",
       "</style>\n",
       "<table border=\"1\" class=\"dataframe\">\n",
       "  <thead>\n",
       "    <tr style=\"text-align: right;\">\n",
       "      <th></th>\n",
       "      <th>DAY_OF_MONTH</th>\n",
       "      <th>DEP_TIME</th>\n",
       "      <th>DEP_DELAY</th>\n",
       "      <th>ARR_TIME</th>\n",
       "      <th>ARR_DELAY</th>\n",
       "      <th>AIR_TIME</th>\n",
       "      <th>DISTANCE</th>\n",
       "    </tr>\n",
       "  </thead>\n",
       "  <tbody>\n",
       "    <tr>\n",
       "      <th>DAY_OF_MONTH</th>\n",
       "      <td>1.000000</td>\n",
       "      <td>-0.001029</td>\n",
       "      <td>-0.006322</td>\n",
       "      <td>-0.001919</td>\n",
       "      <td>-0.007984</td>\n",
       "      <td>0.000985</td>\n",
       "      <td>0.001240</td>\n",
       "    </tr>\n",
       "    <tr>\n",
       "      <th>DEP_TIME</th>\n",
       "      <td>-0.001029</td>\n",
       "      <td>1.000000</td>\n",
       "      <td>0.139866</td>\n",
       "      <td>0.632954</td>\n",
       "      <td>0.130680</td>\n",
       "      <td>-0.021550</td>\n",
       "      <td>-0.016827</td>\n",
       "    </tr>\n",
       "    <tr>\n",
       "      <th>DEP_DELAY</th>\n",
       "      <td>-0.006322</td>\n",
       "      <td>0.139866</td>\n",
       "      <td>1.000000</td>\n",
       "      <td>0.030778</td>\n",
       "      <td>0.957282</td>\n",
       "      <td>0.008942</td>\n",
       "      <td>0.009142</td>\n",
       "    </tr>\n",
       "    <tr>\n",
       "      <th>ARR_TIME</th>\n",
       "      <td>-0.001919</td>\n",
       "      <td>0.632954</td>\n",
       "      <td>0.030778</td>\n",
       "      <td>1.000000</td>\n",
       "      <td>0.032352</td>\n",
       "      <td>0.011431</td>\n",
       "      <td>0.006533</td>\n",
       "    </tr>\n",
       "    <tr>\n",
       "      <th>ARR_DELAY</th>\n",
       "      <td>-0.007984</td>\n",
       "      <td>0.130680</td>\n",
       "      <td>0.957282</td>\n",
       "      <td>0.032352</td>\n",
       "      <td>1.000000</td>\n",
       "      <td>-0.002190</td>\n",
       "      <td>-0.019505</td>\n",
       "    </tr>\n",
       "    <tr>\n",
       "      <th>AIR_TIME</th>\n",
       "      <td>0.000985</td>\n",
       "      <td>-0.021550</td>\n",
       "      <td>0.008942</td>\n",
       "      <td>0.011431</td>\n",
       "      <td>-0.002190</td>\n",
       "      <td>1.000000</td>\n",
       "      <td>0.984719</td>\n",
       "    </tr>\n",
       "    <tr>\n",
       "      <th>DISTANCE</th>\n",
       "      <td>0.001240</td>\n",
       "      <td>-0.016827</td>\n",
       "      <td>0.009142</td>\n",
       "      <td>0.006533</td>\n",
       "      <td>-0.019505</td>\n",
       "      <td>0.984719</td>\n",
       "      <td>1.000000</td>\n",
       "    </tr>\n",
       "  </tbody>\n",
       "</table>\n",
       "</div>"
      ],
      "text/plain": [
       "              DAY_OF_MONTH  DEP_TIME  DEP_DELAY  ARR_TIME  ARR_DELAY  \\\n",
       "DAY_OF_MONTH      1.000000 -0.001029  -0.006322 -0.001919  -0.007984   \n",
       "DEP_TIME         -0.001029  1.000000   0.139866  0.632954   0.130680   \n",
       "DEP_DELAY        -0.006322  0.139866   1.000000  0.030778   0.957282   \n",
       "ARR_TIME         -0.001919  0.632954   0.030778  1.000000   0.032352   \n",
       "ARR_DELAY        -0.007984  0.130680   0.957282  0.032352   1.000000   \n",
       "AIR_TIME          0.000985 -0.021550   0.008942  0.011431  -0.002190   \n",
       "DISTANCE          0.001240 -0.016827   0.009142  0.006533  -0.019505   \n",
       "\n",
       "              AIR_TIME  DISTANCE  \n",
       "DAY_OF_MONTH  0.000985  0.001240  \n",
       "DEP_TIME     -0.021550 -0.016827  \n",
       "DEP_DELAY     0.008942  0.009142  \n",
       "ARR_TIME      0.011431  0.006533  \n",
       "ARR_DELAY    -0.002190 -0.019505  \n",
       "AIR_TIME      1.000000  0.984719  \n",
       "DISTANCE      0.984719  1.000000  "
      ]
     },
     "execution_count": 159,
     "metadata": {},
     "output_type": "execute_result"
    }
   ],
   "source": [
    "df.corr()"
   ]
  },
  {
   "cell_type": "code",
   "execution_count": 177,
   "metadata": {
    "scrolled": true
   },
   "outputs": [
    {
     "data": {
      "text/html": [
       "<div>\n",
       "<style scoped>\n",
       "    .dataframe tbody tr th:only-of-type {\n",
       "        vertical-align: middle;\n",
       "    }\n",
       "\n",
       "    .dataframe tbody tr th {\n",
       "        vertical-align: top;\n",
       "    }\n",
       "\n",
       "    .dataframe thead th {\n",
       "        text-align: right;\n",
       "    }\n",
       "</style>\n",
       "<table border=\"1\" class=\"dataframe\">\n",
       "  <thead>\n",
       "    <tr style=\"text-align: right;\">\n",
       "      <th></th>\n",
       "      <th>MONTH</th>\n",
       "      <th>DAY_OF_MONTH</th>\n",
       "      <th>DAY_OF_WEEK</th>\n",
       "      <th>CARRIER</th>\n",
       "      <th>ORIGIN</th>\n",
       "      <th>ORIGIN_STATE_NM</th>\n",
       "      <th>DEST</th>\n",
       "      <th>DEST_STATE_NM</th>\n",
       "      <th>DEP_TIME</th>\n",
       "      <th>DEP_DELAY</th>\n",
       "      <th>DEP_DEL15</th>\n",
       "      <th>ARR_TIME</th>\n",
       "      <th>ARR_DELAY</th>\n",
       "      <th>ARR_DEL15</th>\n",
       "      <th>CANCELLED</th>\n",
       "      <th>DIVERTED</th>\n",
       "      <th>AIR_TIME</th>\n",
       "      <th>DISTANCE</th>\n",
       "    </tr>\n",
       "  </thead>\n",
       "  <tbody>\n",
       "    <tr>\n",
       "      <th>308130</th>\n",
       "      <td>Feb</td>\n",
       "      <td>16</td>\n",
       "      <td>Friday</td>\n",
       "      <td>WN</td>\n",
       "      <td>DAL</td>\n",
       "      <td>Texas</td>\n",
       "      <td>ABQ</td>\n",
       "      <td>New Mexico</td>\n",
       "      <td>1555.0</td>\n",
       "      <td>-5.0</td>\n",
       "      <td>0.0</td>\n",
       "      <td>1640.0</td>\n",
       "      <td>-10.0</td>\n",
       "      <td>0.0</td>\n",
       "      <td>0.0</td>\n",
       "      <td>0.0</td>\n",
       "      <td>89.0</td>\n",
       "      <td>580.0</td>\n",
       "    </tr>\n",
       "    <tr>\n",
       "      <th>329549</th>\n",
       "      <td>Nov</td>\n",
       "      <td>1</td>\n",
       "      <td>Thursday</td>\n",
       "      <td>HA</td>\n",
       "      <td>HNL</td>\n",
       "      <td>Hawaii</td>\n",
       "      <td>OAK</td>\n",
       "      <td>California</td>\n",
       "      <td>1326.0</td>\n",
       "      <td>1.0</td>\n",
       "      <td>0.0</td>\n",
       "      <td>2147.0</td>\n",
       "      <td>7.0</td>\n",
       "      <td>0.0</td>\n",
       "      <td>0.0</td>\n",
       "      <td>0.0</td>\n",
       "      <td>295.0</td>\n",
       "      <td>2409.0</td>\n",
       "    </tr>\n",
       "    <tr>\n",
       "      <th>218570</th>\n",
       "      <td>Sep</td>\n",
       "      <td>24</td>\n",
       "      <td>Monday</td>\n",
       "      <td>MQ</td>\n",
       "      <td>DFW</td>\n",
       "      <td>Texas</td>\n",
       "      <td>SJT</td>\n",
       "      <td>Texas</td>\n",
       "      <td>1633.0</td>\n",
       "      <td>-7.0</td>\n",
       "      <td>0.0</td>\n",
       "      <td>1727.0</td>\n",
       "      <td>-16.0</td>\n",
       "      <td>0.0</td>\n",
       "      <td>0.0</td>\n",
       "      <td>0.0</td>\n",
       "      <td>40.0</td>\n",
       "      <td>229.0</td>\n",
       "    </tr>\n",
       "    <tr>\n",
       "      <th>588328</th>\n",
       "      <td>May</td>\n",
       "      <td>19</td>\n",
       "      <td>Saturday</td>\n",
       "      <td>UA</td>\n",
       "      <td>SEA</td>\n",
       "      <td>Washington</td>\n",
       "      <td>IAH</td>\n",
       "      <td>Texas</td>\n",
       "      <td>1224.0</td>\n",
       "      <td>4.0</td>\n",
       "      <td>0.0</td>\n",
       "      <td>1841.0</td>\n",
       "      <td>0.0</td>\n",
       "      <td>0.0</td>\n",
       "      <td>0.0</td>\n",
       "      <td>0.0</td>\n",
       "      <td>229.0</td>\n",
       "      <td>1874.0</td>\n",
       "    </tr>\n",
       "    <tr>\n",
       "      <th>529726</th>\n",
       "      <td>Dec</td>\n",
       "      <td>13</td>\n",
       "      <td>Thursday</td>\n",
       "      <td>OH</td>\n",
       "      <td>BHM</td>\n",
       "      <td>Alabama</td>\n",
       "      <td>DCA</td>\n",
       "      <td>Virginia</td>\n",
       "      <td>1004.0</td>\n",
       "      <td>-11.0</td>\n",
       "      <td>0.0</td>\n",
       "      <td>1241.0</td>\n",
       "      <td>-33.0</td>\n",
       "      <td>0.0</td>\n",
       "      <td>0.0</td>\n",
       "      <td>0.0</td>\n",
       "      <td>90.0</td>\n",
       "      <td>653.0</td>\n",
       "    </tr>\n",
       "    <tr>\n",
       "      <th>470732</th>\n",
       "      <td>Mar</td>\n",
       "      <td>5</td>\n",
       "      <td>Monday</td>\n",
       "      <td>9E</td>\n",
       "      <td>DTW</td>\n",
       "      <td>Michigan</td>\n",
       "      <td>CWA</td>\n",
       "      <td>Wisconsin</td>\n",
       "      <td>2014.0</td>\n",
       "      <td>-7.0</td>\n",
       "      <td>0.0</td>\n",
       "      <td>2037.0</td>\n",
       "      <td>-12.0</td>\n",
       "      <td>0.0</td>\n",
       "      <td>0.0</td>\n",
       "      <td>0.0</td>\n",
       "      <td>62.0</td>\n",
       "      <td>363.0</td>\n",
       "    </tr>\n",
       "    <tr>\n",
       "      <th>211915</th>\n",
       "      <td>Jun</td>\n",
       "      <td>9</td>\n",
       "      <td>Saturday</td>\n",
       "      <td>OO</td>\n",
       "      <td>MSP</td>\n",
       "      <td>Minnesota</td>\n",
       "      <td>DFW</td>\n",
       "      <td>Texas</td>\n",
       "      <td>908.0</td>\n",
       "      <td>18.0</td>\n",
       "      <td>1.0</td>\n",
       "      <td>1158.0</td>\n",
       "      <td>33.0</td>\n",
       "      <td>1.0</td>\n",
       "      <td>0.0</td>\n",
       "      <td>0.0</td>\n",
       "      <td>124.0</td>\n",
       "      <td>852.0</td>\n",
       "    </tr>\n",
       "    <tr>\n",
       "      <th>60481</th>\n",
       "      <td>Nov</td>\n",
       "      <td>16</td>\n",
       "      <td>Friday</td>\n",
       "      <td>OO</td>\n",
       "      <td>DEN</td>\n",
       "      <td>Colorado</td>\n",
       "      <td>MOT</td>\n",
       "      <td>North Dakota</td>\n",
       "      <td>2002.0</td>\n",
       "      <td>-4.0</td>\n",
       "      <td>0.0</td>\n",
       "      <td>2249.0</td>\n",
       "      <td>-8.0</td>\n",
       "      <td>0.0</td>\n",
       "      <td>0.0</td>\n",
       "      <td>0.0</td>\n",
       "      <td>89.0</td>\n",
       "      <td>604.0</td>\n",
       "    </tr>\n",
       "    <tr>\n",
       "      <th>516454</th>\n",
       "      <td>Oct</td>\n",
       "      <td>24</td>\n",
       "      <td>Wednesday</td>\n",
       "      <td>UA</td>\n",
       "      <td>IAD</td>\n",
       "      <td>Virginia</td>\n",
       "      <td>TPA</td>\n",
       "      <td>Florida</td>\n",
       "      <td>1810.0</td>\n",
       "      <td>15.0</td>\n",
       "      <td>1.0</td>\n",
       "      <td>2007.0</td>\n",
       "      <td>-7.0</td>\n",
       "      <td>0.0</td>\n",
       "      <td>0.0</td>\n",
       "      <td>0.0</td>\n",
       "      <td>104.0</td>\n",
       "      <td>811.0</td>\n",
       "    </tr>\n",
       "    <tr>\n",
       "      <th>378438</th>\n",
       "      <td>Apr</td>\n",
       "      <td>21</td>\n",
       "      <td>Saturday</td>\n",
       "      <td>YV</td>\n",
       "      <td>IAH</td>\n",
       "      <td>Texas</td>\n",
       "      <td>BNA</td>\n",
       "      <td>Tennessee</td>\n",
       "      <td>1014.0</td>\n",
       "      <td>-1.0</td>\n",
       "      <td>0.0</td>\n",
       "      <td>1200.0</td>\n",
       "      <td>-13.0</td>\n",
       "      <td>0.0</td>\n",
       "      <td>0.0</td>\n",
       "      <td>0.0</td>\n",
       "      <td>87.0</td>\n",
       "      <td>657.0</td>\n",
       "    </tr>\n",
       "  </tbody>\n",
       "</table>\n",
       "</div>"
      ],
      "text/plain": [
       "       MONTH  DAY_OF_MONTH DAY_OF_WEEK CARRIER ORIGIN ORIGIN_STATE_NM DEST  \\\n",
       "308130   Feb            16      Friday      WN    DAL           Texas  ABQ   \n",
       "329549   Nov             1    Thursday      HA    HNL          Hawaii  OAK   \n",
       "218570   Sep            24      Monday      MQ    DFW           Texas  SJT   \n",
       "588328   May            19    Saturday      UA    SEA      Washington  IAH   \n",
       "529726   Dec            13    Thursday      OH    BHM         Alabama  DCA   \n",
       "470732   Mar             5      Monday      9E    DTW        Michigan  CWA   \n",
       "211915   Jun             9    Saturday      OO    MSP       Minnesota  DFW   \n",
       "60481    Nov            16      Friday      OO    DEN        Colorado  MOT   \n",
       "516454   Oct            24   Wednesday      UA    IAD        Virginia  TPA   \n",
       "378438   Apr            21    Saturday      YV    IAH           Texas  BNA   \n",
       "\n",
       "       DEST_STATE_NM  DEP_TIME  DEP_DELAY DEP_DEL15  ARR_TIME  ARR_DELAY  \\\n",
       "308130    New Mexico    1555.0       -5.0       0.0    1640.0      -10.0   \n",
       "329549    California    1326.0        1.0       0.0    2147.0        7.0   \n",
       "218570         Texas    1633.0       -7.0       0.0    1727.0      -16.0   \n",
       "588328         Texas    1224.0        4.0       0.0    1841.0        0.0   \n",
       "529726      Virginia    1004.0      -11.0       0.0    1241.0      -33.0   \n",
       "470732     Wisconsin    2014.0       -7.0       0.0    2037.0      -12.0   \n",
       "211915         Texas     908.0       18.0       1.0    1158.0       33.0   \n",
       "60481   North Dakota    2002.0       -4.0       0.0    2249.0       -8.0   \n",
       "516454       Florida    1810.0       15.0       1.0    2007.0       -7.0   \n",
       "378438     Tennessee    1014.0       -1.0       0.0    1200.0      -13.0   \n",
       "\n",
       "       ARR_DEL15 CANCELLED DIVERTED  AIR_TIME  DISTANCE  \n",
       "308130       0.0       0.0      0.0      89.0     580.0  \n",
       "329549       0.0       0.0      0.0     295.0    2409.0  \n",
       "218570       0.0       0.0      0.0      40.0     229.0  \n",
       "588328       0.0       0.0      0.0     229.0    1874.0  \n",
       "529726       0.0       0.0      0.0      90.0     653.0  \n",
       "470732       0.0       0.0      0.0      62.0     363.0  \n",
       "211915       1.0       0.0      0.0     124.0     852.0  \n",
       "60481        0.0       0.0      0.0      89.0     604.0  \n",
       "516454       0.0       0.0      0.0     104.0     811.0  \n",
       "378438       0.0       0.0      0.0      87.0     657.0  "
      ]
     },
     "execution_count": 177,
     "metadata": {},
     "output_type": "execute_result"
    }
   ],
   "source": [
    "df.sample(10)"
   ]
  },
  {
   "cell_type": "markdown",
   "metadata": {},
   "source": [
    "### Comparing carriers and if the flight get delayed or not."
   ]
  },
  {
   "cell_type": "code",
   "execution_count": 162,
   "metadata": {
    "scrolled": false
   },
   "outputs": [
    {
     "data": {
      "image/png": "[encoded data removed]",
      "text/plain": [
       "<Figure size 432x3888 with 36 Axes>"
      ]
     },
     "metadata": {},
     "output_type": "display_data"
    }
   ],
   "source": [
    "p = sb.FacetGrid(df, col='ARR_DEL15', row='CARRIER')\n",
    "p = p.map(sb.distplot,'ARR_DELAY')\n"
   ]
  },
  {
   "cell_type": "markdown",
   "metadata": {},
   "source": [
    "- Endeavor Air(9E) & Mesa Airlines(YV) & Republic Airways(YX)& United Airlines(UA) & PSA Airlines(OH)& Spirit Airlines(NK) &Envoey Air(MQ) & Allegiant Air(G4) &  Forniter Airlines(F9) &Eva Air(EV) & Delta Airlines(DL): \n",
    "\n",
    "- They all shares a normal ration between delayed flight and if  the flight get delayed more than 15 min. \n",
    "\n",
    "- American Airlines(AA) and Hawaiian airlines:\n",
    "- It has a delays flight ratio more than the usual, comparing to the other carriers,but it also has a low ratio on the flights that get delayed for more than 15 mins.\n",
    "\n",
    "- Alaska Airlines(AS): has the highest ratio for the flights that get delayed for more than 15 mins. \n",
    "\n",
    "- Skeywest airlines(OO): it has a normal delay ration on the delay flights, and has low ratio on the flights get delayed for more than 15.min\n",
    "\n"
   ]
  },
  {
   "cell_type": "code",
   "execution_count": 192,
   "metadata": {},
   "outputs": [
    {
     "name": "stderr",
     "output_type": "stream",
     "text": [
      "The system cannot find the file specified.\n"
     ]
    }
   ],
   "source": [
    "!jupyter nbconvert <file_name>.ipynb --to slides --post serve --template output_toggle"
   ]
  },
  {
   "cell_type": "code",
   "execution_count": null,
   "metadata": {},
   "outputs": [],
   "source": []
  }
 ],
 "metadata": {
  "kernelspec": {
   "display_name": "Python 3",
   "language": "python",
   "name": "python3"
  },
  "language_info": {
   "codemirror_mode": {
    "name": "ipython",
    "version": 3
   },
   "file_extension": ".py",
   "mimetype": "text/x-python",
   "name": "python",
   "nbconvert_exporter": "python",
   "pygments_lexer": "ipython3",
   "version": "3.8.3"
  }
 },
 "nbformat": 4,
 "nbformat_minor": 4
}
